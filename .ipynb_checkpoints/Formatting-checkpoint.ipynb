{
 "cells": [
  {
   "cell_type": "code",
   "execution_count": 3,
   "metadata": {},
   "outputs": [],
   "source": [
    "import pandas as pd"
   ]
  },
  {
   "cell_type": "code",
   "execution_count": null,
   "metadata": {},
   "outputs": [],
   "source": [
    "print('hi')"
   ]
  },
  {
   "cell_type": "code",
   "execution_count": 7,
   "metadata": {},
   "outputs": [],
   "source": [
    "dfresid = pd.read_csv('public_data/both_residuals.csv', index_col=0)"
   ]
  },
  {
   "cell_type": "code",
   "execution_count": 28,
   "metadata": {},
   "outputs": [
    {
     "name": "stdout",
     "output_type": "stream",
     "text": [
      "| county_state                     |   xgb_residual |\n",
      "|:---------------------------------|---------------:|\n",
      "| Forest County, Pennsylvania      |      -3950.66  |\n",
      "| Greensville County, Virginia     |      -2412.21  |\n",
      "| North Slope Borough, Alaska      |      -2378.68  |\n",
      "| Wheeler County, Georgia          |      -1994.88  |\n",
      "| Manassas city, Virginia          |      -1881.26  |\n",
      "| Issaquena County, Mississippi    |      -1878.01  |\n",
      "| Powell County, Montana           |      -1850.93  |\n",
      "| Stewart County, Georgia          |      -1838.78  |\n",
      "| Jones County, Texas              |      -1570.68  |\n",
      "| Buena Vista County, Iowa         |      -1511.32  |\n",
      "| DeKalb County, Missouri          |      -1286.27  |\n",
      "| Lee County, Kentucky             |      -1265.57  |\n",
      "| Emmet County, Iowa               |      -1248.64  |\n",
      "| Union County, Florida            |      -1194.15  |\n",
      "| Duplin County, North Carolina    |      -1173.87  |\n",
      "| New York County, New York        |      -1106.6   |\n",
      "| Ector County, Texas              |      -1047.72  |\n",
      "| Petersburg city, Virginia        |      -1008.12  |\n",
      "| Sevier County, Arkansas          |       -963.681 |\n",
      "| Tunica County, Mississippi       |       -952.414 |\n",
      "| San Francisco County, California |       -934.171 |\n",
      "| Lincoln County, Colorado         |       -930.412 |\n",
      "| Arlington County, Virginia       |       -898.588 |\n",
      "| Greene County, North Carolina    |       -867.263 |\n",
      "| Alexandria city, Virginia        |       -861.727 |\n",
      "| Scott County, Iowa               |       -856.461 |\n",
      "| Bailey County, Texas             |       -841.174 |\n",
      "| New Castle County, Delaware      |       -838.501 |\n",
      "| Dallam County, Texas             |       -830.803 |\n",
      "| Johnson County, Nebraska         |       -818.163 |\n"
     ]
    }
   ],
   "source": [
    "print(dfresid.sort_values(by='xgb_residual')[:30][['county_state', \n",
    "                    'xgb_residual']].set_index('county_state').to_markdown())"
   ]
  },
  {
   "cell_type": "markdown",
   "metadata": {},
   "source": [
    "| Most under-predicted counties                 |   Prediction Error |\n",
    "|:-----------------------------|---------------:|\n",
    "| Forest County, Pennsylvania  |       -3950.66 |\n",
    "| Greensville County, Virginia |       -2412.21 |"
   ]
  },
  {
   "cell_type": "markdown",
   "metadata": {},
   "source": [
    "| Most under-predicted counties    |   Prediction Error |\n",
    "|:---------------------------------|---------------:|\n",
    "| Forest County, Pennsylvania      |      -3950.66  |\n",
    "| Greensville County, Virginia     |      -2412.21  |\n",
    "| North Slope Borough, Alaska      |      -2378.68  |\n",
    "| Wheeler County, Georgia          |      -1994.88  |\n",
    "| Manassas city, Virginia          |      -1881.26  |\n",
    "| Issaquena County, Mississippi    |      -1878.01  |\n",
    "| Powell County, Montana           |      -1850.93  |\n",
    "| Stewart County, Georgia          |      -1838.78  |\n",
    "| Jones County, Texas              |      -1570.68  |\n",
    "| Buena Vista County, Iowa         |      -1511.32  |\n",
    "| DeKalb County, Missouri          |      -1286.27  |\n",
    "| Lee County, Kentucky             |      -1265.57  |\n",
    "| Emmet County, Iowa               |      -1248.64  |\n",
    "| Union County, Florida            |      -1194.15  |\n",
    "| Duplin County, North Carolina    |      -1173.87  |\n",
    "| New York County, New York        |      -1106.6   |\n",
    "| Ector County, Texas              |      -1047.72  |\n",
    "| Petersburg city, Virginia        |      -1008.12  |\n",
    "| Sevier County, Arkansas          |       -963.681 |\n",
    "| Tunica County, Mississippi       |       -952.414 |\n",
    "| San Francisco County, California |       -934.171 |\n",
    "| Lincoln County, Colorado         |       -930.412 |\n",
    "| Arlington County, Virginia       |       -898.588 |\n",
    "| Greene County, North Carolina    |       -867.263 |\n",
    "| Alexandria city, Virginia        |       -861.727 |\n",
    "| Scott County, Iowa               |       -856.461 |\n",
    "| Bailey County, Texas             |       -841.174 |\n",
    "| New Castle County, Delaware      |       -838.501 |\n",
    "| Dallam County, Texas             |       -830.803 |\n",
    "| Johnson County, Nebraska         |       -818.163 |"
   ]
  },
  {
   "cell_type": "code",
   "execution_count": null,
   "metadata": {},
   "outputs": [],
   "source": []
  }
 ],
 "metadata": {
  "kernelspec": {
   "display_name": "Python 3",
   "language": "python",
   "name": "python3"
  },
  "language_info": {
   "codemirror_mode": {
    "name": "ipython",
    "version": 3
   },
   "file_extension": ".py",
   "mimetype": "text/x-python",
   "name": "python",
   "nbconvert_exporter": "python",
   "pygments_lexer": "ipython3",
   "version": "3.7.4"
  }
 },
 "nbformat": 4,
 "nbformat_minor": 2
}
