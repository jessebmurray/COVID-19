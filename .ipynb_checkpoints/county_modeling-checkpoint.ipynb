{
 "cells": [
  {
   "cell_type": "code",
   "execution_count": 1,
   "metadata": {},
   "outputs": [],
   "source": [
    "import pandas as pd\n",
    "import numpy as np\n",
    "import matplotlib.pyplot as plt\n",
    "\n",
    "pd.options.display.max_columns = 1000"
   ]
  },
  {
   "cell_type": "code",
   "execution_count": 2,
   "metadata": {},
   "outputs": [],
   "source": [
    "## Date for the model\n",
    "cases_date = '5_14_20'\n",
    "\n"
   ]
  },
  {
   "cell_type": "code",
   "execution_count": null,
   "metadata": {},
   "outputs": [],
   "source": []
  },
  {
   "cell_type": "markdown",
   "metadata": {},
   "source": [
    "#### Read coronavirus total cases data"
   ]
  },
  {
   "cell_type": "code",
   "execution_count": 3,
   "metadata": {},
   "outputs": [],
   "source": [
    "dfcv = pd.read_csv('../files/usafacts_cases2.csv')\n",
    "\n",
    "dates = dfcv.columns[4:]\n",
    "\n",
    "changed_dates = {date: date.replace('/', '_') for date in dates}\n",
    "\n",
    "dfcv = dfcv.rename(columns=changed_dates)\n",
    "\n",
    "dfcv.countyFIPS = dfcv.countyFIPS.map(lambda x: '{:05d}'.format(x))\n",
    "\n",
    "dfcv = dfcv.set_index('countyFIPS')"
   ]
  },
  {
   "cell_type": "markdown",
   "metadata": {},
   "source": [
    "#### Prepare dataframe with cases and census data"
   ]
  },
  {
   "cell_type": "code",
   "execution_count": 4,
   "metadata": {},
   "outputs": [],
   "source": [
    "df = pd.read_csv('../files/modeling_data/census_data.csv', index_col=0)\n",
    "\n",
    "dft = pd.DataFrame(dfcv[cases_date])\n",
    "\n",
    "df.index = df.index.map(lambda x: '{:05d}'.format(x))\n",
    "\n",
    "df = df.join(dft)\n",
    "\n",
    "df[cases_date] = 100_000 * df[cases_date] / df.TOT_POP\n",
    "\n",
    "df.rename(columns={cases_date:'CPC'}, inplace = True)\n",
    "\n",
    "df = df.reset_index()\n",
    "\n",
    "df = df.rename(columns={'index':'FIPS'})"
   ]
  },
  {
   "cell_type": "code",
   "execution_count": null,
   "metadata": {},
   "outputs": [],
   "source": []
  },
  {
   "cell_type": "markdown",
   "metadata": {},
   "source": [
    "Drop Washington D.C."
   ]
  },
  {
   "cell_type": "code",
   "execution_count": 5,
   "metadata": {},
   "outputs": [
    {
     "data": {
      "text/plain": [
       "50"
      ]
     },
     "execution_count": 5,
     "metadata": {},
     "output_type": "execute_result"
    }
   ],
   "source": [
    "# Drop the District of Columbia\n",
    "df = df.loc[df.STNAME != 'District of Columbia']\n",
    "\n",
    "len(df.STNAME.unique())"
   ]
  },
  {
   "cell_type": "code",
   "execution_count": null,
   "metadata": {},
   "outputs": [],
   "source": []
  },
  {
   "cell_type": "markdown",
   "metadata": {},
   "source": [
    "### Deal with missing values"
   ]
  },
  {
   "cell_type": "code",
   "execution_count": 6,
   "metadata": {},
   "outputs": [
    {
     "data": {
      "text/plain": [
       "['Civilian_labor_force_2018',\n",
       " 'Employed_2018',\n",
       " 'Unemployed_2018',\n",
       " 'Median_Household_Income_2018',\n",
       " 'Rural_urban_continuum_code_2013',\n",
       " 'Urban_influence_code_2013',\n",
       " 'Metro_2013']"
      ]
     },
     "execution_count": 6,
     "metadata": {},
     "output_type": "execute_result"
    }
   ],
   "source": [
    "# Columns with missing values\n",
    "[col for col in df.columns if df[col].isnull().any()]"
   ]
  },
  {
   "cell_type": "code",
   "execution_count": 7,
   "metadata": {},
   "outputs": [],
   "source": [
    "# Counties with missing values\n",
    "counties_with_missing = dict()\n",
    "for col in df.columns:\n",
    "    if df[col].isnull().any():\n",
    "        counties = df.loc[df[col].isnull()].CTYNAME.tolist()\n",
    "        for county in counties:\n",
    "            county_state = county + ', ' + df.loc[df.CTYNAME == county].STNAME.iloc[0]\n",
    "            if county_state not in counties_with_missing:\n",
    "                counties_with_missing[county_state] = [col]\n",
    "            else:\n",
    "                counties_with_missing[county_state].append(col)"
   ]
  },
  {
   "cell_type": "code",
   "execution_count": 8,
   "metadata": {},
   "outputs": [
    {
     "data": {
      "text/plain": [
       "{'Kalawao County, Hawaii': ['Civilian_labor_force_2018',\n",
       "  'Employed_2018',\n",
       "  'Unemployed_2018',\n",
       "  'Median_Household_Income_2018',\n",
       "  'Rural_urban_continuum_code_2013',\n",
       "  'Urban_influence_code_2013',\n",
       "  'Metro_2013']}"
      ]
     },
     "execution_count": 8,
     "metadata": {},
     "output_type": "execute_result"
    }
   ],
   "source": [
    "counties_with_missing"
   ]
  },
  {
   "cell_type": "code",
   "execution_count": 9,
   "metadata": {},
   "outputs": [
    {
     "data": {
      "text/plain": [
       "1"
      ]
     },
     "execution_count": 9,
     "metadata": {},
     "output_type": "execute_result"
    }
   ],
   "source": [
    "len(counties_with_missing)"
   ]
  },
  {
   "cell_type": "markdown",
   "metadata": {},
   "source": [
    "There (were) only three counties with missing values, we manually googled and insert the land area values for the two counties with missing land areas and we can drop the county in Hawaii"
   ]
  },
  {
   "cell_type": "code",
   "execution_count": 10,
   "metadata": {},
   "outputs": [],
   "source": [
    "df = df.loc[~(df.CTYNAME == 'Kalawao County')]"
   ]
  },
  {
   "cell_type": "code",
   "execution_count": null,
   "metadata": {},
   "outputs": [],
   "source": []
  },
  {
   "cell_type": "code",
   "execution_count": 11,
   "metadata": {},
   "outputs": [
    {
     "data": {
      "text/plain": [
       "(0.08048215201270906, 6.3196066536379385e-06)"
      ]
     },
     "execution_count": 11,
     "metadata": {},
     "output_type": "execute_result"
    },
    {
     "data": {
      "image/png": "[encoded data removed]",
      "text/plain": [
       "<Figure size 640x480 with 1 Axes>"
      ]
     },
     "metadata": {},
     "output_type": "display_data"
    }
   ],
   "source": [
    "# side_data = df.loc[df.Metro_2013 == 1]\n",
    "side_data = df\n",
    "\n",
    "plt.style.use('default')\n",
    "plt.scatter(side_data['Median_Household_Income_2018'], side_data.CPC, alpha=0.2)\n",
    "plt.xscale('log')\n",
    "plt.yscale('log')\n",
    "plt.ylim(0.1, 10_000)\n",
    "# plt.ylim(0.4, 0.55)\n",
    "\n",
    "import scipy.stats as st\n",
    "st.pearsonr(side_data['Median_Household_Income_2018'], side_data.CPC)"
   ]
  },
  {
   "cell_type": "code",
   "execution_count": null,
   "metadata": {},
   "outputs": [],
   "source": []
  },
  {
   "cell_type": "markdown",
   "metadata": {},
   "source": [
    "## Modeling"
   ]
  },
  {
   "cell_type": "markdown",
   "metadata": {},
   "source": [
    "#### Categorical variables"
   ]
  },
  {
   "cell_type": "code",
   "execution_count": 12,
   "metadata": {},
   "outputs": [
    {
     "data": {
      "text/plain": [
       "array([3, 4, 1, 2])"
      ]
     },
     "execution_count": 12,
     "metadata": {},
     "output_type": "execute_result"
    }
   ],
   "source": [
    "# We should one hot encode the region\n",
    "df.REGION.unique()"
   ]
  },
  {
   "cell_type": "code",
   "execution_count": 13,
   "metadata": {},
   "outputs": [
    {
     "name": "stdout",
     "output_type": "stream",
     "text": [
      "[1. 2. 3. 4. 5. 6. 7. 8. 9.]\n",
      "[ 1.  2.  3.  4.  5.  6.  7.  8.  9. 10. 11. 12.]\n",
      "[0. 1.]\n"
     ]
    }
   ],
   "source": [
    "# These ordinal columns don't need to be changed but should be integers not floats\n",
    "print(df['Rural_urban_continuum_code_2013'].sort_values().unique())\n",
    "\n",
    "print(df['Urban_influence_code_2013'].sort_values().unique())\n",
    "\n",
    "print(df.Metro_2013.sort_values().unique())"
   ]
  },
  {
   "cell_type": "markdown",
   "metadata": {},
   "source": [
    "We can first try dropping the state name, and then try one hot encoding the state name."
   ]
  },
  {
   "cell_type": "code",
   "execution_count": 14,
   "metadata": {},
   "outputs": [],
   "source": [
    "df['Rural_urban_continuum_code_2013'] = df['Rural_urban_continuum_code_2013'].astype(int)\n",
    "\n",
    "df['Urban_influence_code_2013'] = df['Urban_influence_code_2013'].astype(int)\n",
    "\n",
    "df['Metro_2013'] = df['Metro_2013'].astype(int)"
   ]
  },
  {
   "cell_type": "code",
   "execution_count": null,
   "metadata": {},
   "outputs": [],
   "source": []
  },
  {
   "cell_type": "markdown",
   "metadata": {},
   "source": [
    "### Split the data"
   ]
  },
  {
   "cell_type": "code",
   "execution_count": 41,
   "metadata": {},
   "outputs": [
    {
     "data": {
      "text/plain": [
       "Index(['FIPS', 'STATE', 'COUNTY', 'STNAME', 'CTYNAME', 'TOT_POP', 'TOT_MALE',\n",
       "       'TOT_FEMALE', 'WA', 'BA', 'IA', 'AA', 'NA', 'TOM', 'WAC', 'BAC', 'IAC',\n",
       "       'AAC', 'NAC', 'NH', 'NHWA', 'NHBA', 'NHIA', 'NHAA', 'NHNA', 'NHTOM',\n",
       "       'NHWAC', 'NHBAC', 'NHIAC', 'NHAAC', 'NHNAC', 'H', 'HWA', 'HBA', 'HIA',\n",
       "       'HAA', 'HNA', 'HTOM', 'HWAC', 'HBAC', 'HIAC', 'HAAC', 'HNAC',\n",
       "       'zero_four', 'five_nine', 'ten_fourteen', 'fifteen_nineteen',\n",
       "       'twenty_twentyfour', 'twentyfive_twentynine', 'thirty_thirtyfour',\n",
       "       'thirtyfive_thirtynine', 'forty_fortyfour', 'fortyfive_fortynine',\n",
       "       'fifty_fiftyfour', 'fiftyfive_fiftynine', 'sixty_sixtyfour',\n",
       "       'sixtyfive_sixtynine', 'seventy_seventyfour', 'seventyfive_seventynine',\n",
       "       'eighty_eightyfour', 'eightyfive_older', 'RNETMIG2018',\n",
       "       'RDOMESTICMIG2018', 'RINTERNATIONALMIG2018', 'RNATURALINC2018',\n",
       "       'RDEATH2018', 'RBIRTH2018', 'REGION', 'DIVISION', 'GQESTIMATES2018',\n",
       "       'NPOPCHG_2018', 'Civilian_labor_force_2018', 'Employed_2018',\n",
       "       'Unemployed_2018', 'Median_Household_Income_2018',\n",
       "       'Rural_urban_continuum_code_2013', 'Urban_influence_code_2013',\n",
       "       'Metro_2013',\n",
       "       'Percent of adults with less than a high school diploma, 2014-18',\n",
       "       'Percent of adults with a high school diploma only, 2014-18',\n",
       "       'Percent of adults completing some college or associate's degree, 2014-18',\n",
       "       'Percent of adults with a bachelor's degree or higher, 2014-18',\n",
       "       'LAND_AREA', 'DENSITY', 'CPC'],\n",
       "      dtype='object')"
      ]
     },
     "execution_count": 41,
     "metadata": {},
     "output_type": "execute_result"
    }
   ],
   "source": [
    "df.columns"
   ]
  },
  {
   "cell_type": "code",
   "execution_count": 44,
   "metadata": {},
   "outputs": [
    {
     "data": {
      "text/plain": [
       "array([6, 9, 8, 7, 1, 5, 3, 4, 2])"
      ]
     },
     "execution_count": 44,
     "metadata": {},
     "output_type": "execute_result"
    }
   ],
   "source": [
    "df.DIVISION.unique()"
   ]
  },
  {
   "cell_type": "code",
   "execution_count": 104,
   "metadata": {},
   "outputs": [],
   "source": [
    "# Target is cases per capita\n",
    "y = df.CPC\n",
    "inverse_cols = ['TOT_MALE', 'Unemployed_2018', 'REGION']\n",
    "object_cols = ['FIPS', 'COUNTY', 'CTYNAME', 'STATE']  # STNAME, DIVISION\n",
    "dont_use = object_cols + inverse_cols\n",
    "\n",
    "\n",
    "X = df.drop(dont_use + ['CPC'], axis=1)"
   ]
  },
  {
   "cell_type": "code",
   "execution_count": 105,
   "metadata": {},
   "outputs": [],
   "source": [
    "from sklearn.model_selection import train_test_split\n",
    "\n",
    "# Divide data into training and validation subsets\n",
    "X_train, X_valid, y_train, y_valid = train_test_split(X, y, train_size=0.8, test_size=0.2, \\\n",
    "                                                      random_state=0)"
   ]
  },
  {
   "cell_type": "markdown",
   "metadata": {},
   "source": [
    "### Select columns to one hot encode, then encode them"
   ]
  },
  {
   "cell_type": "code",
   "execution_count": 106,
   "metadata": {},
   "outputs": [],
   "source": [
    "one_hot_columns = ['STNAME', 'DIVISION']"
   ]
  },
  {
   "cell_type": "code",
   "execution_count": 107,
   "metadata": {},
   "outputs": [],
   "source": [
    "from sklearn.preprocessing import OneHotEncoder\n",
    "\n",
    "OH_encoder = OneHotEncoder(handle_unknown='ignore', sparse=False)\n",
    "\n",
    "# Fit and apply one hot transformation\n",
    "OH_cols_train = pd.DataFrame(OH_encoder.fit_transform(pd.DataFrame(X_train[one_hot_columns])))\n",
    "OH_cols_valid = pd.DataFrame(OH_encoder.transform(pd.DataFrame(X_valid[one_hot_columns])))\n",
    "\n",
    "# One-hot encoding removed index; put it back\n",
    "OH_cols_train.index = X_train.index\n",
    "OH_cols_valid.index = X_valid.index\n",
    "\n",
    "# Remove categorical columns (will replace with one-hot encoding)\n",
    "X_train = X_train.drop(one_hot_columns, axis=1)\n",
    "X_valid = X_valid.drop(one_hot_columns, axis=1)\n",
    "\n",
    "# Add one-hot encoded columns to numerical features\n",
    "X_train = pd.concat([X_train, OH_cols_train], axis=1)\n",
    "X_valid = pd.concat([X_valid, OH_cols_valid], axis=1)"
   ]
  },
  {
   "cell_type": "code",
   "execution_count": 108,
   "metadata": {},
   "outputs": [],
   "source": [
    "# X_train.rename(columns={0:'REGION_1', 1:'REGION_2', 2:'REGION_3', 3:'REGION_4'}, inplace=True)\n",
    "# X_valid.rename(columns={0:'REGION_1', 1:'REGION_2', 2:'REGION_3', 3:'REGION_4'}, inplace=True)"
   ]
  },
  {
   "cell_type": "code",
   "execution_count": null,
   "metadata": {},
   "outputs": [],
   "source": []
  },
  {
   "cell_type": "code",
   "execution_count": 109,
   "metadata": {},
   "outputs": [],
   "source": [
    "from sklearn.ensemble import RandomForestRegressor\n",
    "from sklearn.metrics import mean_absolute_error\n",
    "\n",
    "def score_dataset(X_train, X_valid, y_train, y_valid, n_estimators):\n",
    "    model = RandomForestRegressor(n_estimators=n_estimators, random_state=0)\n",
    "    model.fit(X_train, y_train)\n",
    "    preds = model.predict(X_valid)\n",
    "    return mean_absolute_error(y_valid, preds), model.feature_importances_"
   ]
  },
  {
   "cell_type": "code",
   "execution_count": 110,
   "metadata": {},
   "outputs": [],
   "source": [
    "performance, importances = score_dataset(X_train, X_valid, y_train, y_valid, n_estimators=100)"
   ]
  },
  {
   "cell_type": "code",
   "execution_count": 111,
   "metadata": {},
   "outputs": [
    {
     "data": {
      "text/plain": [
       "174.57556658079454"
      ]
     },
     "execution_count": 111,
     "metadata": {},
     "output_type": "execute_result"
    }
   ],
   "source": [
    "performance"
   ]
  },
  {
   "cell_type": "code",
   "execution_count": 112,
   "metadata": {},
   "outputs": [
    {
     "data": {
      "text/plain": [
       "134"
      ]
     },
     "execution_count": 112,
     "metadata": {},
     "output_type": "execute_result"
    }
   ],
   "source": [
    "len(X_train.columns)"
   ]
  },
  {
   "cell_type": "code",
   "execution_count": 113,
   "metadata": {},
   "outputs": [],
   "source": [
    "imp = list()\n",
    "for i in range(len(X_train.columns)):\n",
    "    imp.append((X_train.columns[i],importances[i]))"
   ]
  },
  {
   "cell_type": "code",
   "execution_count": 114,
   "metadata": {},
   "outputs": [
    {
     "data": {
      "text/plain": [
       "[(28, 2.0306059576232552e-08),\n",
       " (10, 1.0349764586105433e-07),\n",
       " (44, 1.0616265491236629e-07),\n",
       " (1, 1.0906258283523335e-07),\n",
       " (47, 1.0390839176279457e-06),\n",
       " (36, 1.451983844384465e-06),\n",
       " (18, 1.664789635857413e-06),\n",
       " (39, 7.734251766836787e-06),\n",
       " (38, 8.667915414278949e-06),\n",
       " (25, 1.1076918247947042e-05),\n",
       " (27, 1.2459400531475578e-05),\n",
       " (33, 1.2607993224481652e-05),\n",
       " (24, 1.279397633782102e-05),\n",
       " (48, 1.3304713811464184e-05),\n",
       " (4, 1.4058453909465024e-05),\n",
       " (32, 1.581505575000187e-05),\n",
       " (49, 2.060546188872929e-05),\n",
       " (6, 4.08677247856323e-05),\n",
       " (46, 5.110095522699988e-05),\n",
       " (37, 6.36245730178155e-05),\n",
       " (58, 0.00010840707871538796),\n",
       " (8, 0.00011447213353240421),\n",
       " (16, 0.00012093947727373697),\n",
       " (30, 0.00014415975364632114),\n",
       " (19, 0.00016576582835475513),\n",
       " (0, 0.0002281333893558435),\n",
       " (22, 0.00027477245718888994),\n",
       " (56, 0.0002815946925664571),\n",
       " (12, 0.00028321057186872517),\n",
       " (23, 0.0003223516028429086),\n",
       " (43, 0.00033406355504082467),\n",
       " (35, 0.0003587077612984431),\n",
       " (57, 0.00036074312891338264),\n",
       " (45, 0.00037152301194629694),\n",
       " (21, 0.0004071061129827607),\n",
       " (54, 0.0006354175801968974),\n",
       " (40, 0.0007325680340959874),\n",
       " (42, 0.0007367039886072803),\n",
       " (3, 0.0008470484589362654),\n",
       " (20, 0.000852005531456532),\n",
       " (2, 0.000875674289814148),\n",
       " (55, 0.0010733447803544557),\n",
       " (52, 0.001100183141874244),\n",
       " (9, 0.001408050918978422),\n",
       " (50, 0.0015837571198913875),\n",
       " ('NHAAC', 0.0018618144436511317),\n",
       " (17, 0.0019306667229989458),\n",
       " (5, 0.001931461687480823),\n",
       " (7, 0.001975182478759341),\n",
       " ('Metro_2013', 0.0021541793218135714),\n",
       " (11, 0.0021794989844793372),\n",
       " (53, 0.002209990600630765),\n",
       " ('Rural_urban_continuum_code_2013', 0.0022300567797457816),\n",
       " (34, 0.0025852226430515208),\n",
       " ('eighty_eightyfour', 0.0026848189534039446),\n",
       " (41, 0.0027974814544530833),\n",
       " ('fiftyfive_fiftynine', 0.0028714414247936206),\n",
       " (29, 0.00310739183259049),\n",
       " ('NPOPCHG_2018', 0.0041516809836000665),\n",
       " ('NHNAC', 0.004228074874424626),\n",
       " ('sixty_sixtyfour', 0.0042582578613951936),\n",
       " (15, 0.004266274242881219),\n",
       " ('Urban_influence_code_2013', 0.004270787571519918),\n",
       " ('NHBAC', 0.004297414118253463),\n",
       " ('sixtyfive_sixtynine', 0.004309920751005702),\n",
       " ('fifteen_nineteen', 0.00448348569681895),\n",
       " ('HWAC', 0.004662163219464865),\n",
       " (51, 0.004819450747581653),\n",
       " ('TOT_POP', 0.005278685315462316),\n",
       " ('WA', 0.005369407256437304),\n",
       " (13, 0.005563882042008925),\n",
       " ('seventyfive_seventynine', 0.005667111519659468),\n",
       " ('HWA', 0.005956642690285821),\n",
       " ('LAND_AREA', 0.006130817933833041),\n",
       " ('fortyfive_fortynine', 0.006235216537305621),\n",
       " ('HNAC', 0.006271369710649673),\n",
       " ('HTOM', 0.006280155550535908),\n",
       " (31, 0.006359866679316075),\n",
       " ('AA', 0.006419119499040646),\n",
       " ('thirtyfive_thirtynine', 0.006576550569969212),\n",
       " ('NHTOM', 0.006602637785326329),\n",
       " ('five_nine', 0.006897908219732638),\n",
       " ('BAC', 0.006899160379498436),\n",
       " ('ten_fourteen', 0.0070184265496984425),\n",
       " ('seventy_seventyfour', 0.007240046680846027),\n",
       " ('twenty_twentyfour', 0.007359196597121901),\n",
       " ('NH', 0.007384279025798448),\n",
       " (14, 0.007453451936724408),\n",
       " ('Percent of adults with less than a high school diploma, 2014-18',\n",
       "  0.007652526889975115),\n",
       " ('NHIA', 0.00790976465530127),\n",
       " ('H', 0.00799929596823358),\n",
       " ('NHNA', 0.00814662738758385),\n",
       " ('NA', 0.00815491089997167),\n",
       " ('twentyfive_twentynine', 0.00849222683370615),\n",
       " ('HAAC', 0.008542151999593075),\n",
       " ('Employed_2018', 0.00876736335887157),\n",
       " ('HAA', 0.008959691144092476),\n",
       " ('NAC', 0.009005208824895788),\n",
       " (\"Percent of adults with a bachelor's degree or higher, 2014-18\",\n",
       "  0.009200172124805183),\n",
       " ('RNATURALINC2018', 0.009223191791195065),\n",
       " ('NHWA', 0.009295472417081873),\n",
       " ('RDOMESTICMIG2018', 0.009493429726581345),\n",
       " ('forty_fortyfour', 0.009643127978035708),\n",
       " ('fifty_fiftyfour', 0.009672622155793786),\n",
       " ('RBIRTH2018', 0.009838862329008638),\n",
       " ('IA', 0.009919547013534655),\n",
       " (\"Percent of adults completing some college or associate's degree, 2014-18\",\n",
       "  0.010087814539344698),\n",
       " ('HIAC', 0.010382638203821837),\n",
       " ('RINTERNATIONALMIG2018', 0.01047117094148718),\n",
       " ('Median_Household_Income_2018', 0.011025547699811834),\n",
       " ('AAC', 0.011185127704471727),\n",
       " ('TOM', 0.011482745716610905),\n",
       " ('IAC', 0.011487941297760478),\n",
       " ('NHAA', 0.012366542470048227),\n",
       " ('zero_four', 0.01257690404762022),\n",
       " ('HIA', 0.013315911804451635),\n",
       " ('HNA', 0.014038314371784055),\n",
       " ('eightyfive_older', 0.01407153931404175),\n",
       " ('WAC', 0.014554927409374868),\n",
       " ('RNETMIG2018', 0.014617857429362566),\n",
       " ('NHBA', 0.014811389477758315),\n",
       " ('RDEATH2018', 0.01638809867830056),\n",
       " ('TOT_FEMALE', 0.017082678865218935),\n",
       " ('NHIAC', 0.017140827957963182),\n",
       " ('BA', 0.01825918202203695),\n",
       " ('DENSITY', 0.021068200332524243),\n",
       " ('GQESTIMATES2018', 0.02213205843287004),\n",
       " ('Civilian_labor_force_2018', 0.02383651851972668),\n",
       " ('NHWAC', 0.028478923384288483),\n",
       " ('Percent of adults with a high school diploma only, 2014-18',\n",
       "  0.033568028032894534),\n",
       " (26, 0.04228217135346814),\n",
       " ('HBA', 0.042622964989833034),\n",
       " ('HBAC', 0.060352058891007816),\n",
       " ('thirty_thirtyfour', 0.0931551560598209)]"
      ]
     },
     "execution_count": 114,
     "metadata": {},
     "output_type": "execute_result"
    }
   ],
   "source": [
    "sorted(imp, key=lambda x: x[1])"
   ]
  },
  {
   "cell_type": "code",
   "execution_count": null,
   "metadata": {},
   "outputs": [],
   "source": []
  },
  {
   "cell_type": "code",
   "execution_count": 115,
   "metadata": {},
   "outputs": [
    {
     "data": {
      "text/plain": [
       "(array([57., 17., 27., 13.,  7.,  4.,  1.,  2.,  0.,  1.,  1.,  0.,  0.,\n",
       "         2.,  0.,  0.,  0.,  0.,  0.,  1.,  0.,  0.,  0.,  0.,  0.,  0.,\n",
       "         0.,  0.,  0.,  1.]),\n",
       " array([2.03060596e-08, 3.10519150e-03, 6.21036269e-03, 9.31553388e-03,\n",
       "        1.24207051e-02, 1.55258763e-02, 1.86310475e-02, 2.17362186e-02,\n",
       "        2.48413898e-02, 2.79465610e-02, 3.10517322e-02, 3.41569034e-02,\n",
       "        3.72620746e-02, 4.03672458e-02, 4.34724170e-02, 4.65775882e-02,\n",
       "        4.96827594e-02, 5.27879306e-02, 5.58931018e-02, 5.89982730e-02,\n",
       "        6.21034441e-02, 6.52086153e-02, 6.83137865e-02, 7.14189577e-02,\n",
       "        7.45241289e-02, 7.76293001e-02, 8.07344713e-02, 8.38396425e-02,\n",
       "        8.69448137e-02, 9.00499849e-02, 9.31551561e-02]),\n",
       " <a list of 30 Patch objects>)"
      ]
     },
     "execution_count": 115,
     "metadata": {},
     "output_type": "execute_result"
    },
    {
     "data": {
      "image/png": "[encoded data removed]",
      "text/plain": [
       "<Figure size 640x480 with 1 Axes>"
      ]
     },
     "metadata": {},
     "output_type": "display_data"
    }
   ],
   "source": [
    "plt.hist(importances, bins=30)"
   ]
  },
  {
   "cell_type": "code",
   "execution_count": null,
   "metadata": {},
   "outputs": [],
   "source": []
  },
  {
   "cell_type": "markdown",
   "metadata": {},
   "source": [
    "Compare to if we just guessed the average cases per capita in the training data."
   ]
  },
  {
   "cell_type": "code",
   "execution_count": 116,
   "metadata": {},
   "outputs": [],
   "source": [
    "cpc_mean = np.zeros(X_valid.shape[0])\n",
    "cpc_mean.fill(y_train.mean())"
   ]
  },
  {
   "cell_type": "code",
   "execution_count": 117,
   "metadata": {},
   "outputs": [
    {
     "data": {
      "text/plain": [
       "229.93108627117263"
      ]
     },
     "execution_count": 117,
     "metadata": {},
     "output_type": "execute_result"
    }
   ],
   "source": [
    "mean_absolute_error(cpc_mean, y_valid)"
   ]
  },
  {
   "cell_type": "code",
   "execution_count": 119,
   "metadata": {},
   "outputs": [
    {
     "data": {
      "text/plain": [
       "0.24074830675611103"
      ]
     },
     "execution_count": 119,
     "metadata": {},
     "output_type": "execute_result"
    }
   ],
   "source": [
    "1 - performance / mean_absolute_error(cpc_mean, y_valid)"
   ]
  },
  {
   "cell_type": "markdown",
   "metadata": {},
   "source": [
    "The model performs 24% better than if the prediction was simply an average of the cases per capita in the training data. "
   ]
  },
  {
   "cell_type": "code",
   "execution_count": null,
   "metadata": {},
   "outputs": [],
   "source": []
  },
  {
   "cell_type": "markdown",
   "metadata": {},
   "source": [
    "### Gradient boosting"
   ]
  },
  {
   "cell_type": "code",
   "execution_count": 122,
   "metadata": {},
   "outputs": [
    {
     "name": "stdout",
     "output_type": "stream",
     "text": [
      "[22:10:30] WARNING: src/objective/regression_obj.cu:152: reg:linear is now deprecated in favor of reg:squarederror.\n",
      "[0]\tvalidation_0-rmse:510.659\n",
      "Will train until validation_0-rmse hasn't improved in 5 rounds.\n",
      "[1]\tvalidation_0-rmse:500.435\n",
      "[2]\tvalidation_0-rmse:489.566\n",
      "[3]\tvalidation_0-rmse:480.181\n",
      "[4]\tvalidation_0-rmse:474.026\n",
      "[5]\tvalidation_0-rmse:466.781\n",
      "[6]\tvalidation_0-rmse:462.475\n",
      "[7]\tvalidation_0-rmse:459.267\n",
      "[8]\tvalidation_0-rmse:455.709\n",
      "[9]\tvalidation_0-rmse:454.968\n",
      "[10]\tvalidation_0-rmse:451.422\n",
      "[11]\tvalidation_0-rmse:449.754\n",
      "[12]\tvalidation_0-rmse:449.342\n",
      "[13]\tvalidation_0-rmse:449.145\n",
      "[14]\tvalidation_0-rmse:446.574\n",
      "[15]\tvalidation_0-rmse:446.716\n",
      "[16]\tvalidation_0-rmse:446.295\n",
      "[17]\tvalidation_0-rmse:442.354\n",
      "[18]\tvalidation_0-rmse:441.077\n",
      "[19]\tvalidation_0-rmse:441.577\n",
      "[20]\tvalidation_0-rmse:441.829\n",
      "[21]\tvalidation_0-rmse:437.505\n",
      "[22]\tvalidation_0-rmse:437.254\n",
      "[23]\tvalidation_0-rmse:436.203\n",
      "[24]\tvalidation_0-rmse:435.895\n",
      "[25]\tvalidation_0-rmse:432.506\n",
      "[26]\tvalidation_0-rmse:432.106\n",
      "[27]\tvalidation_0-rmse:432.441\n",
      "[28]\tvalidation_0-rmse:432.393\n",
      "[29]\tvalidation_0-rmse:428.881\n",
      "[30]\tvalidation_0-rmse:428.932\n",
      "[31]\tvalidation_0-rmse:427.172\n",
      "[32]\tvalidation_0-rmse:423.401\n",
      "[33]\tvalidation_0-rmse:420.755\n",
      "[34]\tvalidation_0-rmse:419.491\n",
      "[35]\tvalidation_0-rmse:418.634\n",
      "[36]\tvalidation_0-rmse:415.918\n",
      "[37]\tvalidation_0-rmse:415.97\n",
      "[38]\tvalidation_0-rmse:415.927\n",
      "[39]\tvalidation_0-rmse:414.292\n",
      "[40]\tvalidation_0-rmse:413.855\n",
      "[41]\tvalidation_0-rmse:411.615\n",
      "[42]\tvalidation_0-rmse:410.591\n",
      "[43]\tvalidation_0-rmse:409.457\n",
      "[44]\tvalidation_0-rmse:408.728\n",
      "[45]\tvalidation_0-rmse:406.375\n",
      "[46]\tvalidation_0-rmse:405.996\n",
      "[47]\tvalidation_0-rmse:405.701\n",
      "[48]\tvalidation_0-rmse:403.21\n",
      "[49]\tvalidation_0-rmse:402.904\n",
      "[50]\tvalidation_0-rmse:402.05\n",
      "[51]\tvalidation_0-rmse:400.488\n",
      "[52]\tvalidation_0-rmse:400.181\n",
      "[53]\tvalidation_0-rmse:400.175\n",
      "[54]\tvalidation_0-rmse:399.706\n",
      "[55]\tvalidation_0-rmse:399.563\n",
      "[56]\tvalidation_0-rmse:397.811\n",
      "[57]\tvalidation_0-rmse:397.68\n",
      "[58]\tvalidation_0-rmse:397.439\n",
      "[59]\tvalidation_0-rmse:396.733\n",
      "[60]\tvalidation_0-rmse:396.129\n",
      "[61]\tvalidation_0-rmse:395.565\n",
      "[62]\tvalidation_0-rmse:395.48\n",
      "[63]\tvalidation_0-rmse:393.729\n",
      "[64]\tvalidation_0-rmse:393.476\n",
      "[65]\tvalidation_0-rmse:392.909\n",
      "[66]\tvalidation_0-rmse:392.506\n",
      "[67]\tvalidation_0-rmse:390.039\n",
      "[68]\tvalidation_0-rmse:390.031\n",
      "[69]\tvalidation_0-rmse:388.991\n",
      "[70]\tvalidation_0-rmse:388.923\n",
      "[71]\tvalidation_0-rmse:388.335\n",
      "[72]\tvalidation_0-rmse:388.459\n",
      "[73]\tvalidation_0-rmse:388.37\n",
      "[74]\tvalidation_0-rmse:387.21\n",
      "[75]\tvalidation_0-rmse:387.204\n",
      "[76]\tvalidation_0-rmse:387.082\n",
      "[77]\tvalidation_0-rmse:386.684\n",
      "[78]\tvalidation_0-rmse:386.479\n",
      "[79]\tvalidation_0-rmse:386.271\n",
      "[80]\tvalidation_0-rmse:386.351\n",
      "[81]\tvalidation_0-rmse:385.705\n",
      "[82]\tvalidation_0-rmse:384.824\n",
      "[83]\tvalidation_0-rmse:384.783\n",
      "[84]\tvalidation_0-rmse:384.692\n",
      "[85]\tvalidation_0-rmse:385.62\n",
      "[86]\tvalidation_0-rmse:385.493\n",
      "[87]\tvalidation_0-rmse:385.353\n",
      "[88]\tvalidation_0-rmse:385.424\n",
      "[89]\tvalidation_0-rmse:384.695\n",
      "Stopping. Best iteration:\n",
      "[84]\tvalidation_0-rmse:384.692\n",
      "\n"
     ]
    },
    {
     "data": {
      "text/plain": [
       "XGBRegressor(base_score=0.5, booster='gbtree', colsample_bylevel=1,\n",
       "             colsample_bynode=1, colsample_bytree=1, gamma=0,\n",
       "             importance_type='gain', learning_rate=0.1, max_delta_step=0,\n",
       "             max_depth=3, min_child_weight=1, missing=None, n_estimators=500,\n",
       "             n_jobs=1, nthread=None, objective='reg:linear', random_state=0,\n",
       "             reg_alpha=0, reg_lambda=1, scale_pos_weight=1, seed=None,\n",
       "             silent=None, subsample=1, verbosity=1)"
      ]
     },
     "execution_count": 122,
     "metadata": {},
     "output_type": "execute_result"
    }
   ],
   "source": [
    "from xgboost import XGBRegressor\n",
    "boost_model = XGBRegressor(n_estimators=500)\n",
    "\n",
    "boost_model.fit(X_train, y_train, early_stopping_rounds=5,\n",
    "            eval_set=[(X_valid, y_valid)], verbose=True)"
   ]
  },
  {
   "cell_type": "markdown",
   "metadata": {},
   "source": [
    "Ideal number of estimators was 84."
   ]
  },
  {
   "cell_type": "code",
   "execution_count": 124,
   "metadata": {},
   "outputs": [
    {
     "name": "stdout",
     "output_type": "stream",
     "text": [
      "Mean Absolute Error: 170.60541289140232\n"
     ]
    }
   ],
   "source": [
    "predictions = boost_model.predict(X_valid)\n",
    "print(\"Mean Absolute Error: \" + '{:,}'.format(mean_absolute_error(predictions, y_valid)))"
   ]
  },
  {
   "cell_type": "code",
   "execution_count": 142,
   "metadata": {},
   "outputs": [
    {
     "data": {
      "text/plain": [
       "0.7479167166504576"
      ]
     },
     "execution_count": 142,
     "metadata": {},
     "output_type": "execute_result"
    }
   ],
   "source": [
    "1 - mean_absolute_error(predictions, y_valid) / mean_absolute_error(cpc_mean, y_valid)"
   ]
  },
  {
   "cell_type": "code",
   "execution_count": 140,
   "metadata": {},
   "outputs": [
    {
     "data": {
      "text/plain": [
       "array([0.01, 0.02, 0.03, 0.04, 0.05, 0.06, 0.07, 0.08, 0.09, 0.1 , 0.11,\n",
       "       0.12, 0.13, 0.14, 0.15, 0.16, 0.17, 0.18, 0.19, 0.2 , 0.21, 0.22,\n",
       "       0.23, 0.24, 0.25, 0.26, 0.27, 0.28, 0.29])"
      ]
     },
     "execution_count": 140,
     "metadata": {},
     "output_type": "execute_result"
    }
   ],
   "source": []
  },
  {
   "cell_type": "code",
   "execution_count": 141,
   "metadata": {},
   "outputs": [
    {
     "name": "stderr",
     "output_type": "stream",
     "text": [
      "/Users/jessemurray/opt/anaconda3/lib/python3.7/site-packages/xgboost/core.py:587: FutureWarning: Series.base is deprecated and will be removed in a future version\n",
      "  if getattr(data, 'base', None) is not None and \\\n"
     ]
    },
    {
     "name": "stdout",
     "output_type": "stream",
     "text": [
      "[22:18:28] WARNING: src/objective/regression_obj.cu:152: reg:linear is now deprecated in favor of reg:squarederror.\n"
     ]
    },
    {
     "name": "stderr",
     "output_type": "stream",
     "text": [
      "/Users/jessemurray/opt/anaconda3/lib/python3.7/site-packages/xgboost/core.py:587: FutureWarning: Series.base is deprecated and will be removed in a future version\n",
      "  if getattr(data, 'base', None) is not None and \\\n"
     ]
    },
    {
     "name": "stdout",
     "output_type": "stream",
     "text": [
      "[22:18:30] WARNING: src/objective/regression_obj.cu:152: reg:linear is now deprecated in favor of reg:squarederror.\n"
     ]
    },
    {
     "name": "stderr",
     "output_type": "stream",
     "text": [
      "/Users/jessemurray/opt/anaconda3/lib/python3.7/site-packages/xgboost/core.py:587: FutureWarning: Series.base is deprecated and will be removed in a future version\n",
      "  if getattr(data, 'base', None) is not None and \\\n"
     ]
    },
    {
     "name": "stdout",
     "output_type": "stream",
     "text": [
      "[22:18:32] WARNING: src/objective/regression_obj.cu:152: reg:linear is now deprecated in favor of reg:squarederror.\n"
     ]
    },
    {
     "name": "stderr",
     "output_type": "stream",
     "text": [
      "/Users/jessemurray/opt/anaconda3/lib/python3.7/site-packages/xgboost/core.py:587: FutureWarning: Series.base is deprecated and will be removed in a future version\n",
      "  if getattr(data, 'base', None) is not None and \\\n"
     ]
    },
    {
     "name": "stdout",
     "output_type": "stream",
     "text": [
      "[22:18:34] WARNING: src/objective/regression_obj.cu:152: reg:linear is now deprecated in favor of reg:squarederror.\n"
     ]
    },
    {
     "name": "stderr",
     "output_type": "stream",
     "text": [
      "/Users/jessemurray/opt/anaconda3/lib/python3.7/site-packages/xgboost/core.py:587: FutureWarning: Series.base is deprecated and will be removed in a future version\n",
      "  if getattr(data, 'base', None) is not None and \\\n"
     ]
    },
    {
     "name": "stdout",
     "output_type": "stream",
     "text": [
      "[22:18:36] WARNING: src/objective/regression_obj.cu:152: reg:linear is now deprecated in favor of reg:squarederror.\n"
     ]
    },
    {
     "name": "stderr",
     "output_type": "stream",
     "text": [
      "/Users/jessemurray/opt/anaconda3/lib/python3.7/site-packages/xgboost/core.py:587: FutureWarning: Series.base is deprecated and will be removed in a future version\n",
      "  if getattr(data, 'base', None) is not None and \\\n"
     ]
    },
    {
     "name": "stdout",
     "output_type": "stream",
     "text": [
      "[22:18:38] WARNING: src/objective/regression_obj.cu:152: reg:linear is now deprecated in favor of reg:squarederror.\n"
     ]
    },
    {
     "name": "stderr",
     "output_type": "stream",
     "text": [
      "/Users/jessemurray/opt/anaconda3/lib/python3.7/site-packages/xgboost/core.py:587: FutureWarning: Series.base is deprecated and will be removed in a future version\n",
      "  if getattr(data, 'base', None) is not None and \\\n"
     ]
    },
    {
     "name": "stdout",
     "output_type": "stream",
     "text": [
      "[22:18:40] WARNING: src/objective/regression_obj.cu:152: reg:linear is now deprecated in favor of reg:squarederror.\n"
     ]
    },
    {
     "name": "stderr",
     "output_type": "stream",
     "text": [
      "/Users/jessemurray/opt/anaconda3/lib/python3.7/site-packages/xgboost/core.py:587: FutureWarning: Series.base is deprecated and will be removed in a future version\n",
      "  if getattr(data, 'base', None) is not None and \\\n"
     ]
    },
    {
     "name": "stdout",
     "output_type": "stream",
     "text": [
      "[22:18:42] WARNING: src/objective/regression_obj.cu:152: reg:linear is now deprecated in favor of reg:squarederror.\n"
     ]
    },
    {
     "name": "stderr",
     "output_type": "stream",
     "text": [
      "/Users/jessemurray/opt/anaconda3/lib/python3.7/site-packages/xgboost/core.py:587: FutureWarning: Series.base is deprecated and will be removed in a future version\n",
      "  if getattr(data, 'base', None) is not None and \\\n"
     ]
    },
    {
     "name": "stdout",
     "output_type": "stream",
     "text": [
      "[22:18:44] WARNING: src/objective/regression_obj.cu:152: reg:linear is now deprecated in favor of reg:squarederror.\n"
     ]
    },
    {
     "name": "stderr",
     "output_type": "stream",
     "text": [
      "/Users/jessemurray/opt/anaconda3/lib/python3.7/site-packages/xgboost/core.py:587: FutureWarning: Series.base is deprecated and will be removed in a future version\n",
      "  if getattr(data, 'base', None) is not None and \\\n"
     ]
    },
    {
     "name": "stdout",
     "output_type": "stream",
     "text": [
      "[22:18:46] WARNING: src/objective/regression_obj.cu:152: reg:linear is now deprecated in favor of reg:squarederror.\n"
     ]
    },
    {
     "name": "stderr",
     "output_type": "stream",
     "text": [
      "/Users/jessemurray/opt/anaconda3/lib/python3.7/site-packages/xgboost/core.py:587: FutureWarning: Series.base is deprecated and will be removed in a future version\n",
      "  if getattr(data, 'base', None) is not None and \\\n"
     ]
    },
    {
     "name": "stdout",
     "output_type": "stream",
     "text": [
      "[22:18:48] WARNING: src/objective/regression_obj.cu:152: reg:linear is now deprecated in favor of reg:squarederror.\n"
     ]
    },
    {
     "name": "stderr",
     "output_type": "stream",
     "text": [
      "/Users/jessemurray/opt/anaconda3/lib/python3.7/site-packages/xgboost/core.py:587: FutureWarning: Series.base is deprecated and will be removed in a future version\n",
      "  if getattr(data, 'base', None) is not None and \\\n"
     ]
    },
    {
     "name": "stdout",
     "output_type": "stream",
     "text": [
      "[22:18:50] WARNING: src/objective/regression_obj.cu:152: reg:linear is now deprecated in favor of reg:squarederror.\n"
     ]
    },
    {
     "name": "stderr",
     "output_type": "stream",
     "text": [
      "/Users/jessemurray/opt/anaconda3/lib/python3.7/site-packages/xgboost/core.py:587: FutureWarning: Series.base is deprecated and will be removed in a future version\n",
      "  if getattr(data, 'base', None) is not None and \\\n"
     ]
    },
    {
     "name": "stdout",
     "output_type": "stream",
     "text": [
      "[22:18:52] WARNING: src/objective/regression_obj.cu:152: reg:linear is now deprecated in favor of reg:squarederror.\n"
     ]
    },
    {
     "name": "stderr",
     "output_type": "stream",
     "text": [
      "/Users/jessemurray/opt/anaconda3/lib/python3.7/site-packages/xgboost/core.py:587: FutureWarning: Series.base is deprecated and will be removed in a future version\n",
      "  if getattr(data, 'base', None) is not None and \\\n"
     ]
    },
    {
     "name": "stdout",
     "output_type": "stream",
     "text": [
      "[22:18:54] WARNING: src/objective/regression_obj.cu:152: reg:linear is now deprecated in favor of reg:squarederror.\n"
     ]
    },
    {
     "name": "stderr",
     "output_type": "stream",
     "text": [
      "/Users/jessemurray/opt/anaconda3/lib/python3.7/site-packages/xgboost/core.py:587: FutureWarning: Series.base is deprecated and will be removed in a future version\n",
      "  if getattr(data, 'base', None) is not None and \\\n"
     ]
    },
    {
     "name": "stdout",
     "output_type": "stream",
     "text": [
      "[22:18:56] WARNING: src/objective/regression_obj.cu:152: reg:linear is now deprecated in favor of reg:squarederror.\n"
     ]
    },
    {
     "name": "stderr",
     "output_type": "stream",
     "text": [
      "/Users/jessemurray/opt/anaconda3/lib/python3.7/site-packages/xgboost/core.py:587: FutureWarning: Series.base is deprecated and will be removed in a future version\n",
      "  if getattr(data, 'base', None) is not None and \\\n"
     ]
    },
    {
     "name": "stdout",
     "output_type": "stream",
     "text": [
      "[22:18:59] WARNING: src/objective/regression_obj.cu:152: reg:linear is now deprecated in favor of reg:squarederror.\n"
     ]
    },
    {
     "name": "stderr",
     "output_type": "stream",
     "text": [
      "/Users/jessemurray/opt/anaconda3/lib/python3.7/site-packages/xgboost/core.py:587: FutureWarning: Series.base is deprecated and will be removed in a future version\n",
      "  if getattr(data, 'base', None) is not None and \\\n"
     ]
    },
    {
     "name": "stdout",
     "output_type": "stream",
     "text": [
      "[22:19:01] WARNING: src/objective/regression_obj.cu:152: reg:linear is now deprecated in favor of reg:squarederror.\n"
     ]
    },
    {
     "name": "stderr",
     "output_type": "stream",
     "text": [
      "/Users/jessemurray/opt/anaconda3/lib/python3.7/site-packages/xgboost/core.py:587: FutureWarning: Series.base is deprecated and will be removed in a future version\n",
      "  if getattr(data, 'base', None) is not None and \\\n"
     ]
    },
    {
     "name": "stdout",
     "output_type": "stream",
     "text": [
      "[22:19:03] WARNING: src/objective/regression_obj.cu:152: reg:linear is now deprecated in favor of reg:squarederror.\n"
     ]
    },
    {
     "name": "stderr",
     "output_type": "stream",
     "text": [
      "/Users/jessemurray/opt/anaconda3/lib/python3.7/site-packages/xgboost/core.py:587: FutureWarning: Series.base is deprecated and will be removed in a future version\n",
      "  if getattr(data, 'base', None) is not None and \\\n"
     ]
    },
    {
     "name": "stdout",
     "output_type": "stream",
     "text": [
      "[22:19:04] WARNING: src/objective/regression_obj.cu:152: reg:linear is now deprecated in favor of reg:squarederror.\n"
     ]
    },
    {
     "name": "stderr",
     "output_type": "stream",
     "text": [
      "/Users/jessemurray/opt/anaconda3/lib/python3.7/site-packages/xgboost/core.py:587: FutureWarning: Series.base is deprecated and will be removed in a future version\n",
      "  if getattr(data, 'base', None) is not None and \\\n"
     ]
    },
    {
     "name": "stdout",
     "output_type": "stream",
     "text": [
      "[22:19:06] WARNING: src/objective/regression_obj.cu:152: reg:linear is now deprecated in favor of reg:squarederror.\n"
     ]
    },
    {
     "name": "stderr",
     "output_type": "stream",
     "text": [
      "/Users/jessemurray/opt/anaconda3/lib/python3.7/site-packages/xgboost/core.py:587: FutureWarning: Series.base is deprecated and will be removed in a future version\n",
      "  if getattr(data, 'base', None) is not None and \\\n"
     ]
    },
    {
     "name": "stdout",
     "output_type": "stream",
     "text": [
      "[22:19:08] WARNING: src/objective/regression_obj.cu:152: reg:linear is now deprecated in favor of reg:squarederror.\n"
     ]
    },
    {
     "name": "stderr",
     "output_type": "stream",
     "text": [
      "/Users/jessemurray/opt/anaconda3/lib/python3.7/site-packages/xgboost/core.py:587: FutureWarning: Series.base is deprecated and will be removed in a future version\n",
      "  if getattr(data, 'base', None) is not None and \\\n"
     ]
    },
    {
     "name": "stdout",
     "output_type": "stream",
     "text": [
      "[22:19:10] WARNING: src/objective/regression_obj.cu:152: reg:linear is now deprecated in favor of reg:squarederror.\n"
     ]
    },
    {
     "name": "stderr",
     "output_type": "stream",
     "text": [
      "/Users/jessemurray/opt/anaconda3/lib/python3.7/site-packages/xgboost/core.py:587: FutureWarning: Series.base is deprecated and will be removed in a future version\n",
      "  if getattr(data, 'base', None) is not None and \\\n"
     ]
    },
    {
     "name": "stdout",
     "output_type": "stream",
     "text": [
      "[22:19:12] WARNING: src/objective/regression_obj.cu:152: reg:linear is now deprecated in favor of reg:squarederror.\n"
     ]
    },
    {
     "name": "stderr",
     "output_type": "stream",
     "text": [
      "/Users/jessemurray/opt/anaconda3/lib/python3.7/site-packages/xgboost/core.py:587: FutureWarning: Series.base is deprecated and will be removed in a future version\n",
      "  if getattr(data, 'base', None) is not None and \\\n"
     ]
    },
    {
     "name": "stdout",
     "output_type": "stream",
     "text": [
      "[22:19:14] WARNING: src/objective/regression_obj.cu:152: reg:linear is now deprecated in favor of reg:squarederror.\n"
     ]
    },
    {
     "name": "stderr",
     "output_type": "stream",
     "text": [
      "/Users/jessemurray/opt/anaconda3/lib/python3.7/site-packages/xgboost/core.py:587: FutureWarning: Series.base is deprecated and will be removed in a future version\n",
      "  if getattr(data, 'base', None) is not None and \\\n"
     ]
    },
    {
     "name": "stdout",
     "output_type": "stream",
     "text": [
      "[22:19:16] WARNING: src/objective/regression_obj.cu:152: reg:linear is now deprecated in favor of reg:squarederror.\n"
     ]
    },
    {
     "name": "stderr",
     "output_type": "stream",
     "text": [
      "/Users/jessemurray/opt/anaconda3/lib/python3.7/site-packages/xgboost/core.py:587: FutureWarning: Series.base is deprecated and will be removed in a future version\n",
      "  if getattr(data, 'base', None) is not None and \\\n"
     ]
    },
    {
     "name": "stdout",
     "output_type": "stream",
     "text": [
      "[22:19:17] WARNING: src/objective/regression_obj.cu:152: reg:linear is now deprecated in favor of reg:squarederror.\n"
     ]
    },
    {
     "name": "stderr",
     "output_type": "stream",
     "text": [
      "/Users/jessemurray/opt/anaconda3/lib/python3.7/site-packages/xgboost/core.py:587: FutureWarning: Series.base is deprecated and will be removed in a future version\n",
      "  if getattr(data, 'base', None) is not None and \\\n"
     ]
    },
    {
     "name": "stdout",
     "output_type": "stream",
     "text": [
      "[22:19:19] WARNING: src/objective/regression_obj.cu:152: reg:linear is now deprecated in favor of reg:squarederror.\n"
     ]
    },
    {
     "name": "stderr",
     "output_type": "stream",
     "text": [
      "/Users/jessemurray/opt/anaconda3/lib/python3.7/site-packages/xgboost/core.py:587: FutureWarning: Series.base is deprecated and will be removed in a future version\n",
      "  if getattr(data, 'base', None) is not None and \\\n"
     ]
    },
    {
     "name": "stdout",
     "output_type": "stream",
     "text": [
      "[22:19:21] WARNING: src/objective/regression_obj.cu:152: reg:linear is now deprecated in favor of reg:squarederror.\n"
     ]
    },
    {
     "name": "stderr",
     "output_type": "stream",
     "text": [
      "/Users/jessemurray/opt/anaconda3/lib/python3.7/site-packages/xgboost/core.py:587: FutureWarning: Series.base is deprecated and will be removed in a future version\n",
      "  if getattr(data, 'base', None) is not None and \\\n"
     ]
    },
    {
     "name": "stdout",
     "output_type": "stream",
     "text": [
      "[22:19:23] WARNING: src/objective/regression_obj.cu:152: reg:linear is now deprecated in favor of reg:squarederror.\n"
     ]
    }
   ],
   "source": [
    "boost_maes = list()\n",
    "for lr in np.arange(0.01, 0.3, 0.01):\n",
    "    boost_model = XGBRegressor(n_estimators=85, learning_rate=lr)\n",
    "\n",
    "    boost_model.fit(X_train, y_train)\n",
    "    predictions = boost_model.predict(X_valid)\n",
    "\n",
    "    mae = mean_absolute_error(predictions, y_valid)\n",
    "    boost_maes.append(mae)\n",
    "#     print(\"Mean Absolute Error: \" + '{:,}'.format(mae))"
   ]
  },
  {
   "cell_type": "code",
   "execution_count": 146,
   "metadata": {},
   "outputs": [
    {
     "data": {
      "text/plain": [
       "[<matplotlib.lines.Line2D at 0x1a22c1bed0>]"
      ]
     },
     "execution_count": 146,
     "metadata": {},
     "output_type": "execute_result"
    },
    {
     "data": {
      "image/png": "[encoded data removed]",
      "text/plain": [
       "<Figure size 640x480 with 1 Axes>"
      ]
     },
     "metadata": {},
     "output_type": "display_data"
    }
   ],
   "source": [
    "plt.plot(np.arange(0.01w, 0.3, 0.01), boost_maes)"
   ]
  },
  {
   "cell_type": "code",
   "execution_count": 156,
   "metadata": {},
   "outputs": [
    {
     "data": {
      "text/plain": [
       "(226.8784721808825, 508.5195412469931)"
      ]
     },
     "execution_count": 156,
     "metadata": {},
     "output_type": "execute_result"
    }
   ],
   "source": [
    "y_train.mean(), y_train.std()"
   ]
  },
  {
   "cell_type": "code",
   "execution_count": 154,
   "metadata": {},
   "outputs": [
    {
     "data": {
      "text/plain": [
       "(225.95245523283302, 501.85180835862167)"
      ]
     },
     "execution_count": 154,
     "metadata": {},
     "output_type": "execute_result"
    }
   ],
   "source": [
    "df.CPC.mean(), df.CPC.std()"
   ]
  },
  {
   "cell_type": "code",
   "execution_count": 157,
   "metadata": {},
   "outputs": [
    {
     "data": {
      "text/plain": [
       "0.33266932270916333"
      ]
     },
     "execution_count": 157,
     "metadata": {},
     "output_type": "execute_result"
    }
   ],
   "source": [
    "167 / 502"
   ]
  },
  {
   "cell_type": "code",
   "execution_count": null,
   "metadata": {},
   "outputs": [],
   "source": []
  }
 ],
 "metadata": {
  "kernelspec": {
   "display_name": "Python 3",
   "language": "python",
   "name": "python3"
  },
  "language_info": {
   "codemirror_mode": {
    "name": "ipython",
    "version": 3
   },
   "file_extension": ".py",
   "mimetype": "text/x-python",
   "name": "python",
   "nbconvert_exporter": "python",
   "pygments_lexer": "ipython3",
   "version": "3.7.4"
  }
 },
 "nbformat": 4,
 "nbformat_minor": 2
}
