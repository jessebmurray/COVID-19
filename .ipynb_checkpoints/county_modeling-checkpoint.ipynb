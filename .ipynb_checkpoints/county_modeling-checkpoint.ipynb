{
 "cells": [
  {
   "cell_type": "code",
   "execution_count": 148,
   "metadata": {},
   "outputs": [],
   "source": [
    "import pandas as pd\n",
    "import numpy as np\n",
    "import matplotlib.pyplot as plt\n",
    "\n",
    "pd.options.display.max_columns = 1000"
   ]
  },
  {
   "cell_type": "code",
   "execution_count": 149,
   "metadata": {},
   "outputs": [],
   "source": [
    "## Date for the model\n",
    "cases_date = '5_14_20'"
   ]
  },
  {
   "cell_type": "code",
   "execution_count": null,
   "metadata": {},
   "outputs": [],
   "source": []
  },
  {
   "cell_type": "markdown",
   "metadata": {},
   "source": [
    "#### Read coronavirus total cases data"
   ]
  },
  {
   "cell_type": "code",
   "execution_count": 150,
   "metadata": {},
   "outputs": [],
   "source": [
    "dfcv = pd.read_csv('../files/usafacts_cases2.csv')\n",
    "\n",
    "dates = dfcv.columns[4:]\n",
    "\n",
    "changed_dates = {date: date.replace('/', '_') for date in dates}\n",
    "\n",
    "dfcv = dfcv.rename(columns=changed_dates)\n",
    "\n",
    "dfcv.countyFIPS = dfcv.countyFIPS.map(lambda x: '{:05d}'.format(x))\n",
    "\n",
    "dfcv = dfcv.set_index('countyFIPS')"
   ]
  },
  {
   "cell_type": "markdown",
   "metadata": {},
   "source": [
    "#### Prepare dataframe with cases and census data"
   ]
  },
  {
   "cell_type": "code",
   "execution_count": 151,
   "metadata": {},
   "outputs": [],
   "source": [
    "df = pd.read_csv('../files/modeling_data/census_data.csv', index_col=0)\n",
    "\n",
    "dft = pd.DataFrame(dfcv[cases_date])\n",
    "\n",
    "df.index = df.index.map(lambda x: '{:05d}'.format(x))\n",
    "\n",
    "df = df.join(dft)\n",
    "\n",
    "df[cases_date] = 100_000 * df[cases_date] / df.TOT_POP\n",
    "\n",
    "df.rename(columns={cases_date:'CPC'}, inplace = True)\n",
    "\n",
    "df = df.reset_index()\n",
    "\n",
    "df = df.rename(columns={'index':'FIPS'})"
   ]
  },
  {
   "cell_type": "code",
   "execution_count": null,
   "metadata": {},
   "outputs": [],
   "source": []
  },
  {
   "cell_type": "markdown",
   "metadata": {},
   "source": [
    "Drop Washington D.C."
   ]
  },
  {
   "cell_type": "code",
   "execution_count": 152,
   "metadata": {},
   "outputs": [
    {
     "data": {
      "text/plain": [
       "50"
      ]
     },
     "execution_count": 152,
     "metadata": {},
     "output_type": "execute_result"
    }
   ],
   "source": [
    "# Drop the District of Columbia\n",
    "df = df.loc[df.STNAME != 'District of Columbia']\n",
    "\n",
    "len(df.STNAME.unique())"
   ]
  },
  {
   "cell_type": "code",
   "execution_count": null,
   "metadata": {},
   "outputs": [],
   "source": []
  },
  {
   "cell_type": "code",
   "execution_count": null,
   "metadata": {},
   "outputs": [],
   "source": []
  },
  {
   "cell_type": "markdown",
   "metadata": {},
   "source": [
    "### Deal with missing values"
   ]
  },
  {
   "cell_type": "code",
   "execution_count": 155,
   "metadata": {},
   "outputs": [
    {
     "data": {
      "text/plain": [
       "['Civilian_labor_force_2018',\n",
       " 'Employed_2018',\n",
       " 'Unemployed_2018',\n",
       " 'Median_Household_Income_2018',\n",
       " 'Rural_urban_continuum_code_2013',\n",
       " 'Urban_influence_code_2013',\n",
       " 'Metro_2013']"
      ]
     },
     "execution_count": 155,
     "metadata": {},
     "output_type": "execute_result"
    }
   ],
   "source": [
    "# Columns with missing values\n",
    "[col for col in df.columns if df[col].isnull().any()]"
   ]
  },
  {
   "cell_type": "code",
   "execution_count": 156,
   "metadata": {},
   "outputs": [],
   "source": [
    "# Counties with missing values\n",
    "counties_with_missing = dict()\n",
    "for col in df.columns:\n",
    "    if df[col].isnull().any():\n",
    "        counties = df.loc[df[col].isnull()].CTYNAME.tolist()\n",
    "        for county in counties:\n",
    "            county_state = county + ', ' + df.loc[df.CTYNAME == county].STNAME.iloc[0]\n",
    "            if county_state not in counties_with_missing:\n",
    "                counties_with_missing[county_state] = [col]\n",
    "            else:\n",
    "                counties_with_missing[county_state].append(col)"
   ]
  },
  {
   "cell_type": "code",
   "execution_count": 157,
   "metadata": {},
   "outputs": [
    {
     "data": {
      "text/plain": [
       "{'Kalawao County, Hawaii': ['Civilian_labor_force_2018',\n",
       "  'Employed_2018',\n",
       "  'Unemployed_2018',\n",
       "  'Median_Household_Income_2018',\n",
       "  'Rural_urban_continuum_code_2013',\n",
       "  'Urban_influence_code_2013',\n",
       "  'Metro_2013']}"
      ]
     },
     "execution_count": 157,
     "metadata": {},
     "output_type": "execute_result"
    }
   ],
   "source": [
    "counties_with_missing"
   ]
  },
  {
   "cell_type": "code",
   "execution_count": 158,
   "metadata": {},
   "outputs": [
    {
     "data": {
      "text/plain": [
       "1"
      ]
     },
     "execution_count": 158,
     "metadata": {},
     "output_type": "execute_result"
    }
   ],
   "source": [
    "len(counties_with_missing)"
   ]
  },
  {
   "cell_type": "markdown",
   "metadata": {},
   "source": [
    "There (were) only three counties with missing values, we manually googled and insert the land area values for the two counties with missing land areas and we can drop the county in Hawaii"
   ]
  },
  {
   "cell_type": "code",
   "execution_count": null,
   "metadata": {},
   "outputs": [],
   "source": [
    "df = df.loc[~(df.CTYNAME == 'Kalawao County')]"
   ]
  },
  {
   "cell_type": "code",
   "execution_count": null,
   "metadata": {},
   "outputs": [],
   "source": []
  },
  {
   "cell_type": "code",
   "execution_count": null,
   "metadata": {},
   "outputs": [],
   "source": []
  },
  {
   "cell_type": "code",
   "execution_count": null,
   "metadata": {},
   "outputs": [],
   "source": []
  },
  {
   "cell_type": "markdown",
   "metadata": {},
   "source": [
    "### Modeling"
   ]
  },
  {
   "cell_type": "code",
   "execution_count": 167,
   "metadata": {},
   "outputs": [],
   "source": [
    "# Target is cases per capita\n",
    "y = df.CPC\n",
    "X = df.drop(['CPC'], axis=1)"
   ]
  },
  {
   "cell_type": "code",
   "execution_count": 168,
   "metadata": {},
   "outputs": [],
   "source": [
    "from sklearn.model_selection import train_test_split\n",
    "\n",
    "# Divide data into training and validation subsets\n",
    "X_train, X_valid, y_train, y_valid = train_test_split(X, y, train_size=0.8, test_size=0.2, \\\n",
    "                                                      random_state=0)"
   ]
  },
  {
   "cell_type": "code",
   "execution_count": null,
   "metadata": {},
   "outputs": [],
   "source": []
  },
  {
   "cell_type": "markdown",
   "metadata": {},
   "source": [
    "### Categorical variables"
   ]
  },
  {
   "cell_type": "code",
   "execution_count": 173,
   "metadata": {},
   "outputs": [
    {
     "data": {
      "text/plain": [
       "array([3, 4, 1, 2])"
      ]
     },
     "execution_count": 173,
     "metadata": {},
     "output_type": "execute_result"
    }
   ],
   "source": [
    "# We should one hot encode the region\n",
    "df.REGION.unique()"
   ]
  },
  {
   "cell_type": "code",
   "execution_count": 188,
   "metadata": {},
   "outputs": [
    {
     "name": "stdout",
     "output_type": "stream",
     "text": [
      "[1. 2. 3. 4. 5. 6. 7. 8. 9.]\n",
      "[ 1.  2.  3.  4.  5.  6.  7.  8.  9. 10. 11. 12.]\n",
      "[0. 1.]\n"
     ]
    }
   ],
   "source": [
    "# These ordinal columns don't need to be changed but should be integers not floats\n",
    "print(df['Rural_urban_continuum_code_2013'].sort_values().unique())\n",
    "\n",
    "print(df['Urban_influence_code_2013'].sort_values().unique())\n",
    "\n",
    "print(df.Metro_2013.sort_values().unique())"
   ]
  },
  {
   "cell_type": "markdown",
   "metadata": {},
   "source": [
    "We can first try dropping the state name, and then try one hot encoding the state name."
   ]
  },
  {
   "cell_type": "code",
   "execution_count": null,
   "metadata": {},
   "outputs": [],
   "source": []
  },
  {
   "cell_type": "code",
   "execution_count": null,
   "metadata": {},
   "outputs": [],
   "source": []
  },
  {
   "cell_type": "code",
   "execution_count": null,
   "metadata": {},
   "outputs": [],
   "source": []
  }
 ],
 "metadata": {
  "kernelspec": {
   "display_name": "Python 3",
   "language": "python",
   "name": "python3"
  },
  "language_info": {
   "codemirror_mode": {
    "name": "ipython",
    "version": 3
   },
   "file_extension": ".py",
   "mimetype": "text/x-python",
   "name": "python",
   "nbconvert_exporter": "python",
   "pygments_lexer": "ipython3",
   "version": "3.7.4"
  }
 },
 "nbformat": 4,
 "nbformat_minor": 2
}
