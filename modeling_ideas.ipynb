{
 "cells": [
  {
   "cell_type": "code",
   "execution_count": 1,
   "metadata": {},
   "outputs": [],
   "source": [
    "import pandas as pd\n",
    "import numpy as np\n",
    "import matplotlib.pyplot as plt\n",
    "import seaborn as sns\n",
    "import scipy.stats as st\n",
    "plt.style.use('default')"
   ]
  },
  {
   "cell_type": "code",
   "execution_count": 2,
   "metadata": {},
   "outputs": [],
   "source": [
    "dfl = pd.read_csv('../files/land.csv')\n",
    "\n",
    "dfup = pd.read_csv('../files/usafacts_pop.csv')\n",
    "dfuc = pd.read_csv('../files/usafacts_cases2.csv')\n",
    "\n",
    "dfup.rename(columns={'countyFIPS':'fips'}, inplace=True)\n",
    "\n",
    "\n",
    "dfuc.rename(columns={'countyFIPS':'fips'}, inplace=True)\n",
    "\n",
    "# dfuc = dfuc.iloc[:,[0,86]]\n",
    "\n",
    "unique = dfuc.fips.unique()\n",
    "\n",
    "dfup = dfup.loc[dfup.fips.isin(unique)]\n",
    "\n",
    "dfl = dfl.loc[dfl.fips.isin(unique)]\n",
    "dfl = dfl.rename(columns={'LND110210':'land', 'POP060210': 'pop'})\n",
    "\n",
    "dfuc = dfuc.loc[dfuc.fips != 0]\n",
    "dfup = dfup.loc[dfup.fips != 0]\n",
    "\n",
    "dfuc = dfuc.sort_values(by='fips')\n",
    "dfup = dfup.sort_values(by='fips')\n",
    "dfuc = dfuc.reset_index(drop=True)\n",
    "dfup = dfup.reset_index(drop=True)\n",
    "\n",
    "dfuc = dfuc.drop([0], axis=0)\n",
    "dfuc = dfuc.reset_index(drop=True)\n",
    "\n",
    "dfuc = dfuc.drop(columns=['stateFIPS'])\n",
    "\n",
    "dfu = pd.concat([dfup, dfuc.drop(columns=['fips', 'State', 'County Name'])], axis=1)\n",
    "\n",
    "dfl = dfl.drop([0], axis=0)\n",
    "dfl = dfl.reset_index(drop=True)\n",
    "\n",
    "unique2 = dfl.fips.unique()\n",
    "\n",
    "dfu = dfu.loc[dfu.fips.isin(unique2)]\n",
    "\n",
    "dfu = dfu.reset_index(drop=True)\n",
    "\n",
    "df = pd.concat([dfl, dfu.drop(columns='fips')], axis=1)\n",
    "\n",
    "df = df.rename(columns={'State':'St'})\n",
    "\n",
    "df = df.drop(columns='pop')  # drop the 2010 census population density\n",
    "\n"
   ]
  },
  {
   "cell_type": "code",
   "execution_count": 3,
   "metadata": {},
   "outputs": [],
   "source": [
    "df_last = df.columns[-1]"
   ]
  },
  {
   "cell_type": "code",
   "execution_count": 4,
   "metadata": {},
   "outputs": [
    {
     "data": {
      "text/plain": [
       "0       104\n",
       "1       243\n",
       "2        74\n",
       "3        46\n",
       "4        45\n",
       "       ... \n",
       "3139     14\n",
       "3140     68\n",
       "3141      7\n",
       "3142      5\n",
       "3143      0\n",
       "Name: 5/14/20, Length: 3144, dtype: int64"
      ]
     },
     "execution_count": 4,
     "metadata": {},
     "output_type": "execute_result"
    }
   ],
   "source": [
    "df[df_last]"
   ]
  },
  {
   "cell_type": "code",
   "execution_count": 5,
   "metadata": {},
   "outputs": [],
   "source": [
    "df = pd.concat([df.iloc[:,:5], df[df_last]], axis=1)\n",
    "\n",
    "df.columns\n",
    "\n",
    "df = df.rename(columns={'County Name': 'County', 'population':'Population', df_last: 'Cases'})\n",
    "\n",
    "df['Density'] = df.Population / df.land\n",
    "\n",
    "df['Cpc'] = 100_000 * df.Cases / df.Population"
   ]
  },
  {
   "cell_type": "code",
   "execution_count": 6,
   "metadata": {},
   "outputs": [],
   "source": [
    "states = {\n",
    "        'AK': 'Alaska',\n",
    "        'AL': 'Alabama',\n",
    "        'AR': 'Arkansas',\n",
    "        'AS': 'American Samoa',\n",
    "        'AZ': 'Arizona',\n",
    "        'CA': 'California',\n",
    "        'CO': 'Colorado',\n",
    "        'CT': 'Connecticut',\n",
    "        'DC': 'District of Columbia',\n",
    "        'DE': 'Delaware',\n",
    "        'FL': 'Florida',\n",
    "        'GA': 'Georgia',\n",
    "        'GU': 'Guam',\n",
    "        'HI': 'Hawaii',\n",
    "        'IA': 'Iowa',\n",
    "        'ID': 'Idaho',\n",
    "        'IL': 'Illinois',\n",
    "        'IN': 'Indiana',\n",
    "        'KS': 'Kansas',\n",
    "        'KY': 'Kentucky',\n",
    "        'LA': 'Louisiana',\n",
    "        'MA': 'Massachusetts',\n",
    "        'MD': 'Maryland',\n",
    "        'ME': 'Maine',\n",
    "        'MI': 'Michigan',\n",
    "        'MN': 'Minnesota',\n",
    "        'MO': 'Missouri',\n",
    "        'MP': 'Northern Mariana Islands',\n",
    "        'MS': 'Mississippi',\n",
    "        'MT': 'Montana',\n",
    "        'NA': 'National',\n",
    "        'NC': 'North Carolina',\n",
    "        'ND': 'North Dakota',\n",
    "        'NE': 'Nebraska',\n",
    "        'NH': 'New Hampshire',\n",
    "        'NJ': 'New Jersey',\n",
    "        'NM': 'New Mexico',\n",
    "        'NV': 'Nevada',\n",
    "        'NY': 'New York',\n",
    "        'OH': 'Ohio',\n",
    "        'OK': 'Oklahoma',\n",
    "        'OR': 'Oregon',\n",
    "        'PA': 'Pennsylvania',\n",
    "        'PR': 'Puerto Rico',\n",
    "        'RI': 'Rhode Island',\n",
    "        'SC': 'South Carolina',\n",
    "        'SD': 'South Dakota',\n",
    "        'TN': 'Tennessee',\n",
    "        'TX': 'Texas',\n",
    "        'UT': 'Utah',\n",
    "        'VA': 'Virginia',\n",
    "        'VI': 'Virgin Islands',\n",
    "        'VT': 'Vermont',\n",
    "        'WA': 'Washington',\n",
    "        'WI': 'Wisconsin',\n",
    "        'WV': 'West Virginia',\n",
    "        'WY': 'Wyoming'\n",
    "}"
   ]
  },
  {
   "cell_type": "code",
   "execution_count": null,
   "metadata": {},
   "outputs": [],
   "source": []
  },
  {
   "cell_type": "markdown",
   "metadata": {},
   "source": [
    "### Word embeddings?"
   ]
  },
  {
   "cell_type": "code",
   "execution_count": 8,
   "metadata": {},
   "outputs": [],
   "source": [
    "ef = pd.read_csv ('../files/glove.6B/glove.6B.50d.csv', header=None, delimiter=' ')"
   ]
  },
  {
   "cell_type": "code",
   "execution_count": 9,
   "metadata": {},
   "outputs": [],
   "source": [
    "def get_array(string):\n",
    "    return ef.loc[ef[0] == string].iloc[:,1:].to_numpy().reshape(50)\n",
    "\n",
    "\n",
    "def similarity(string1, string2):\n",
    "    a = get_array(string1)\n",
    "    b = get_array(string2)\n",
    "    return np.dot(a, b) / (np.linalg.norm(a) * np.linalg.norm(b))"
   ]
  },
  {
   "cell_type": "code",
   "execution_count": 15,
   "metadata": {},
   "outputs": [
    {
     "data": {
      "text/plain": [
       "(0.6582061308470721, -0.037045694169106524)"
      ]
     },
     "execution_count": 15,
     "metadata": {},
     "output_type": "execute_result"
    }
   ],
   "source": [
    "similarity('texas', 'alaska'), similarity('texas', 'new-york')"
   ]
  },
  {
   "cell_type": "code",
   "execution_count": 18,
   "metadata": {},
   "outputs": [
    {
     "data": {
      "text/plain": [
       "(0.2120068297479007, 0.1383875558472209)"
      ]
     },
     "execution_count": 18,
     "metadata": {},
     "output_type": "execute_result"
    }
   ],
   "source": [
    "similarity('nyc', 'newyork'), similarity('nyc', 'new-york')"
   ]
  },
  {
   "cell_type": "code",
   "execution_count": 64,
   "metadata": {},
   "outputs": [
    {
     "data": {
      "text/plain": [
       "(0.4223551958120937, 0.36498529858792544)"
      ]
     },
     "execution_count": 64,
     "metadata": {},
     "output_type": "execute_result"
    }
   ],
   "source": [
    "similarity('tx', 'texas'), similarity('tx', 'mi')"
   ]
  },
  {
   "cell_type": "code",
   "execution_count": 43,
   "metadata": {},
   "outputs": [],
   "source": [
    "stateslower = [state.lower() for state in df.St.unique().tolist()]"
   ]
  },
  {
   "cell_type": "code",
   "execution_count": 82,
   "metadata": {},
   "outputs": [],
   "source": [
    "failstates = list()\n",
    "similarities = list()\n",
    "for st in stateslower:\n",
    "    try:\n",
    "        similarities.append(similarity(states[st.upper()].lower(), st))\n",
    "    except:\n",
    "        failstates.append(st)"
   ]
  },
  {
   "cell_type": "code",
   "execution_count": 212,
   "metadata": {},
   "outputs": [
    {
     "data": {
      "image/png": "[encoded data removed]",
      "text/plain": [
       "<Figure size 640x450 with 1 Axes>"
      ]
     },
     "metadata": {},
     "output_type": "display_data"
    }
   ],
   "source": [
    "plt.style.use('default')\n",
    "plt.figure(figsize=(6.4, 4.5))\n",
    "plt.style.use(np.random.choice(plt.style.available))\n",
    "plt.hist(similarities)\n",
    "plt.title('Histogram of similarities between state names and state abbreviations')\n",
    "plt.show()"
   ]
  },
  {
   "cell_type": "code",
   "execution_count": null,
   "metadata": {},
   "outputs": [],
   "source": []
  },
  {
   "cell_type": "code",
   "execution_count": null,
   "metadata": {},
   "outputs": [],
   "source": []
  },
  {
   "cell_type": "code",
   "execution_count": null,
   "metadata": {},
   "outputs": [],
   "source": []
  },
  {
   "cell_type": "code",
   "execution_count": null,
   "metadata": {},
   "outputs": [],
   "source": []
  },
  {
   "cell_type": "code",
   "execution_count": null,
   "metadata": {},
   "outputs": [],
   "source": []
  },
  {
   "cell_type": "code",
   "execution_count": null,
   "metadata": {},
   "outputs": [],
   "source": []
  },
  {
   "cell_type": "markdown",
   "metadata": {},
   "source": [
    "### Model"
   ]
  },
  {
   "cell_type": "code",
   "execution_count": 7,
   "metadata": {},
   "outputs": [],
   "source": [
    "# Select predictor variables\n",
    "variables = ['St', 'Population', 'Density']\n",
    "X = df[variables]\n",
    "\n",
    "# Select target\n",
    "y = df.Cpc"
   ]
  },
  {
   "cell_type": "code",
   "execution_count": 8,
   "metadata": {},
   "outputs": [
    {
     "data": {
      "text/plain": [
       "0        1001\n",
       "1        1003\n",
       "2        1005\n",
       "3        1007\n",
       "4        1009\n",
       "        ...  \n",
       "3137    56037\n",
       "3138    56039\n",
       "3139    56041\n",
       "3140    56043\n",
       "3141    56045\n",
       "Name: fips, Length: 3142, dtype: int64"
      ]
     },
     "execution_count": 8,
     "metadata": {},
     "output_type": "execute_result"
    }
   ],
   "source": [
    "df.fips"
   ]
  },
  {
   "cell_type": "code",
   "execution_count": null,
   "metadata": {},
   "outputs": [],
   "source": []
  },
  {
   "cell_type": "code",
   "execution_count": 11,
   "metadata": {},
   "outputs": [],
   "source": [
    "dfc = pd.read_csv('../files/census/cc-est2010-alldata.csv', encoding='ISO-8859-1')"
   ]
  },
  {
   "cell_type": "code",
   "execution_count": 12,
   "metadata": {},
   "outputs": [],
   "source": [
    "# Get 2010 data\n",
    "dfc = dfc.loc[dfc.YEAR == 12]"
   ]
  },
  {
   "cell_type": "code",
   "execution_count": 13,
   "metadata": {},
   "outputs": [],
   "source": [
    "pd.DataFrame(dfc[:50].groupby(['COUNTY', 'AGEGRP']).TOT_POP.sum()).reset_index(inplace=True)"
   ]
  },
  {
   "cell_type": "code",
   "execution_count": null,
   "metadata": {},
   "outputs": [],
   "source": []
  },
  {
   "cell_type": "code",
   "execution_count": null,
   "metadata": {},
   "outputs": [],
   "source": []
  },
  {
   "cell_type": "code",
   "execution_count": null,
   "metadata": {},
   "outputs": [],
   "source": []
  },
  {
   "cell_type": "code",
   "execution_count": null,
   "metadata": {},
   "outputs": [],
   "source": []
  },
  {
   "cell_type": "code",
   "execution_count": null,
   "metadata": {},
   "outputs": [],
   "source": []
  },
  {
   "cell_type": "code",
   "execution_count": null,
   "metadata": {},
   "outputs": [],
   "source": []
  },
  {
   "cell_type": "markdown",
   "metadata": {},
   "source": [
    "### Datacommons?"
   ]
  },
  {
   "cell_type": "code",
   "execution_count": 7,
   "metadata": {},
   "outputs": [],
   "source": [
    "# Import Data Commons\n",
    "import datacommons as dc\n",
    "\n",
    "# Import other required libraries\n",
    "import matplotlib.pyplot as plt\n",
    "import matplotlib.patches as mpatches\n",
    "import pandas as pd\n",
    "\n",
    "import json"
   ]
  },
  {
   "cell_type": "code",
   "execution_count": 8,
   "metadata": {},
   "outputs": [],
   "source": [
    "# The key is stored in a secret file. To use this notebook, you will need to \n",
    "# make a copy and point this line to the file containing the key in your drive!\n",
    "\n",
    "\n",
    "# Read the key in and provide it to the Data Commons API\n",
    "with open('../files/dc.json', 'r') as f:\n",
    "    secrets = json.load(f)\n",
    "    dc.set_api_key(secrets['dc_api_key'])"
   ]
  },
  {
   "cell_type": "code",
   "execution_count": 9,
   "metadata": {},
   "outputs": [],
   "source": [
    "county = pd.DataFrame({'country': ['country/USA']})\n",
    "state = pd.DataFrame({'country': ['country/USA']})\n",
    "\n",
    "# Get all states, counties, and cities within the United States\n",
    "state['state'] = state['country'].map(dc.get_places_in(state['country'], 'State'))\n",
    "county['county'] = county['country'].map(dc.get_places_in(county['country'], 'County'))"
   ]
  },
  {
   "cell_type": "code",
   "execution_count": 10,
   "metadata": {},
   "outputs": [
    {
     "data": {
      "text/html": [
       "<div>\n",
       "<style scoped>\n",
       "    .dataframe tbody tr th:only-of-type {\n",
       "        vertical-align: middle;\n",
       "    }\n",
       "\n",
       "    .dataframe tbody tr th {\n",
       "        vertical-align: top;\n",
       "    }\n",
       "\n",
       "    .dataframe thead th {\n",
       "        text-align: right;\n",
       "    }\n",
       "</style>\n",
       "<table border=\"1\" class=\"dataframe\">\n",
       "  <thead>\n",
       "    <tr style=\"text-align: right;\">\n",
       "      <th></th>\n",
       "      <th>country</th>\n",
       "      <th>state</th>\n",
       "    </tr>\n",
       "  </thead>\n",
       "  <tbody>\n",
       "    <tr>\n",
       "      <td>0</td>\n",
       "      <td>country/USA</td>\n",
       "      <td>geoId/01</td>\n",
       "    </tr>\n",
       "    <tr>\n",
       "      <td>1</td>\n",
       "      <td>country/USA</td>\n",
       "      <td>geoId/02</td>\n",
       "    </tr>\n",
       "    <tr>\n",
       "      <td>2</td>\n",
       "      <td>country/USA</td>\n",
       "      <td>geoId/04</td>\n",
       "    </tr>\n",
       "    <tr>\n",
       "      <td>3</td>\n",
       "      <td>country/USA</td>\n",
       "      <td>geoId/05</td>\n",
       "    </tr>\n",
       "    <tr>\n",
       "      <td>4</td>\n",
       "      <td>country/USA</td>\n",
       "      <td>geoId/06</td>\n",
       "    </tr>\n",
       "  </tbody>\n",
       "</table>\n",
       "</div>"
      ],
      "text/plain": [
       "       country     state\n",
       "0  country/USA  geoId/01\n",
       "1  country/USA  geoId/02\n",
       "2  country/USA  geoId/04\n",
       "3  country/USA  geoId/05\n",
       "4  country/USA  geoId/06"
      ]
     },
     "execution_count": 10,
     "metadata": {},
     "output_type": "execute_result"
    }
   ],
   "source": [
    "# Unroll the frames\n",
    "state = state.explode(\"state\").reset_index(drop=True)\n",
    "county = county.explode(\"county\").reset_index(drop=True)\n",
    "\n",
    "# Display the first 5 rows of this table.\n",
    "state.head(5)"
   ]
  },
  {
   "cell_type": "code",
   "execution_count": null,
   "metadata": {},
   "outputs": [],
   "source": []
  },
  {
   "cell_type": "code",
   "execution_count": 11,
   "metadata": {},
   "outputs": [],
   "source": [
    "# Get all state, county, and city names\n",
    "state['state_name'] = state['state'].map(dc.get_property_values(state['state'], 'name'))\n",
    "county['county_name'] = county['county'].map(dc.get_property_values(county['county'], 'name'))\n",
    "\n",
    "# Unroll the returned results\n",
    "state = state.explode('state_name').reset_index(drop=True)\n",
    "county = county.explode('county_name').reset_index(drop=True)"
   ]
  },
  {
   "cell_type": "code",
   "execution_count": 12,
   "metadata": {},
   "outputs": [
    {
     "data": {
      "text/html": [
       "<div>\n",
       "<style scoped>\n",
       "    .dataframe tbody tr th:only-of-type {\n",
       "        vertical-align: middle;\n",
       "    }\n",
       "\n",
       "    .dataframe tbody tr th {\n",
       "        vertical-align: top;\n",
       "    }\n",
       "\n",
       "    .dataframe thead th {\n",
       "        text-align: right;\n",
       "    }\n",
       "</style>\n",
       "<table border=\"1\" class=\"dataframe\">\n",
       "  <thead>\n",
       "    <tr style=\"text-align: right;\">\n",
       "      <th></th>\n",
       "      <th>country</th>\n",
       "      <th>state</th>\n",
       "      <th>state_name</th>\n",
       "      <th>all_persons_pop</th>\n",
       "    </tr>\n",
       "  </thead>\n",
       "  <tbody>\n",
       "    <tr>\n",
       "      <td>0</td>\n",
       "      <td>country/USA</td>\n",
       "      <td>geoId/01</td>\n",
       "      <td>Alabama</td>\n",
       "      <td>dc/p/dft95nqhpkkgd</td>\n",
       "    </tr>\n",
       "    <tr>\n",
       "      <td>1</td>\n",
       "      <td>country/USA</td>\n",
       "      <td>geoId/02</td>\n",
       "      <td>Alaska</td>\n",
       "      <td>dc/p/th9yyf8ej6m64</td>\n",
       "    </tr>\n",
       "    <tr>\n",
       "      <td>2</td>\n",
       "      <td>country/USA</td>\n",
       "      <td>geoId/04</td>\n",
       "      <td>Arizona</td>\n",
       "      <td>dc/p/8hyhwze6s5tn6</td>\n",
       "    </tr>\n",
       "    <tr>\n",
       "      <td>3</td>\n",
       "      <td>country/USA</td>\n",
       "      <td>geoId/05</td>\n",
       "      <td>Arkansas</td>\n",
       "      <td>dc/p/rp61n0st0vtr</td>\n",
       "    </tr>\n",
       "    <tr>\n",
       "      <td>4</td>\n",
       "      <td>country/USA</td>\n",
       "      <td>geoId/06</td>\n",
       "      <td>California</td>\n",
       "      <td>dc/p/f1jbe2m7w6f58</td>\n",
       "    </tr>\n",
       "  </tbody>\n",
       "</table>\n",
       "</div>"
      ],
      "text/plain": [
       "       country     state  state_name     all_persons_pop\n",
       "0  country/USA  geoId/01     Alabama  dc/p/dft95nqhpkkgd\n",
       "1  country/USA  geoId/02      Alaska  dc/p/th9yyf8ej6m64\n",
       "2  country/USA  geoId/04     Arizona  dc/p/8hyhwze6s5tn6\n",
       "3  country/USA  geoId/05    Arkansas   dc/p/rp61n0st0vtr\n",
       "4  country/USA  geoId/06  California  dc/p/f1jbe2m7w6f58"
      ]
     },
     "execution_count": 12,
     "metadata": {},
     "output_type": "execute_result"
    }
   ],
   "source": [
    "# Get StatisticalPopulations representing all persons in a given state, county, \n",
    "# and city.\n",
    "state['all_persons_pop'] = state['state'].map(dc.get_populations(state['state'], 'Person'))\n",
    "county['all_persons_pop'] = county['county'].map(dc.get_populations(county['county'], 'Person'))\n",
    "\n",
    "# Notice that we don't need to unroll the results because the parameters \n",
    "# provided to get_population will always define a unique population if it \n",
    "# exists\n",
    "state.head(5)"
   ]
  },
  {
   "cell_type": "code",
   "execution_count": 13,
   "metadata": {},
   "outputs": [],
   "source": [
    "county['households'] = county['county'].map(dc.get_populations(county['county'], 'Household'))"
   ]
  },
  {
   "cell_type": "code",
   "execution_count": null,
   "metadata": {},
   "outputs": [],
   "source": []
  },
  {
   "cell_type": "code",
   "execution_count": 14,
   "metadata": {},
   "outputs": [],
   "source": [
    "# Add a 'count' and 'med_age' columns representing the total count and\n",
    "# median age of populations in all_persons_pop columns we created earlier.\n",
    "state['count'] = state['all_persons_pop'].map(dc.get_observations(state['all_persons_pop'], \n",
    "    'count',\n",
    "    'measuredValue',\n",
    "    '2017', \n",
    "    measurement_method='CensusACS5yrSurvey'))\n",
    "state['med_age'] = state['all_persons_pop'].map(dc.get_observations(state['all_persons_pop'], \n",
    "    'age',\n",
    "    'medianValue',\n",
    "    '2017', \n",
    "    measurement_method='CensusACS5yrSurvey'))\n",
    "\n",
    "# Get observations for counties.\n",
    "county['count'] = county['all_persons_pop'].map(dc.get_observations(county['all_persons_pop'], \n",
    "    'count',\n",
    "    'measuredValue',\n",
    "    '2017', \n",
    "    measurement_method='CensusACS5yrSurvey'))\n",
    "county['med_age'] = county['all_persons_pop'].map(dc.get_observations(county['all_persons_pop'], \n",
    "    'age',\n",
    "    'medianValue',\n",
    "    '2017', \n",
    "    measurement_method='CensusACS5yrSurvey'))"
   ]
  },
  {
   "cell_type": "code",
   "execution_count": 15,
   "metadata": {},
   "outputs": [],
   "source": [
    "county['income'] = county['households'].map(dc.get_observations(county['households'], \n",
    "    'income',\n",
    "    'medianValue',\n",
    "    '2017', \n",
    "    measurement_method='CensusACS5yrSurvey'))"
   ]
  },
  {
   "cell_type": "code",
   "execution_count": null,
   "metadata": {},
   "outputs": [],
   "source": []
  },
  {
   "cell_type": "code",
   "execution_count": 16,
   "metadata": {},
   "outputs": [],
   "source": [
    "# props = {'employment': 'BLS_Employed'}\n",
    "\n",
    "# dc.get_populations(\n",
    "#     county['county'], 'Person', constraining_properties=props)"
   ]
  },
  {
   "cell_type": "code",
   "execution_count": null,
   "metadata": {},
   "outputs": [],
   "source": []
  },
  {
   "cell_type": "code",
   "execution_count": 17,
   "metadata": {},
   "outputs": [
    {
     "data": {
      "text/html": [
       "<div>\n",
       "<style scoped>\n",
       "    .dataframe tbody tr th:only-of-type {\n",
       "        vertical-align: middle;\n",
       "    }\n",
       "\n",
       "    .dataframe tbody tr th {\n",
       "        vertical-align: top;\n",
       "    }\n",
       "\n",
       "    .dataframe thead th {\n",
       "        text-align: right;\n",
       "    }\n",
       "</style>\n",
       "<table border=\"1\" class=\"dataframe\">\n",
       "  <thead>\n",
       "    <tr style=\"text-align: right;\">\n",
       "      <th></th>\n",
       "      <th>country</th>\n",
       "      <th>county</th>\n",
       "      <th>county_name</th>\n",
       "      <th>all_persons_pop</th>\n",
       "      <th>households</th>\n",
       "      <th>count</th>\n",
       "      <th>med_age</th>\n",
       "      <th>income</th>\n",
       "    </tr>\n",
       "  </thead>\n",
       "  <tbody>\n",
       "    <tr>\n",
       "      <td>0</td>\n",
       "      <td>country/USA</td>\n",
       "      <td>geoId/01001</td>\n",
       "      <td>Autauga County</td>\n",
       "      <td>dc/p/cdkpt4hmxg352</td>\n",
       "      <td>dc/p/6wxe6fbc7rdt9</td>\n",
       "      <td>55036.0</td>\n",
       "      <td>37.8</td>\n",
       "      <td>55317.0</td>\n",
       "    </tr>\n",
       "    <tr>\n",
       "      <td>1</td>\n",
       "      <td>country/USA</td>\n",
       "      <td>geoId/01003</td>\n",
       "      <td>Baldwin County</td>\n",
       "      <td>dc/p/2gt2kdl62cgs</td>\n",
       "      <td>dc/p/kkqkjr2xcsrs2</td>\n",
       "      <td>203360.0</td>\n",
       "      <td>42.6</td>\n",
       "      <td>52562.0</td>\n",
       "    </tr>\n",
       "    <tr>\n",
       "      <td>2</td>\n",
       "      <td>country/USA</td>\n",
       "      <td>geoId/01005</td>\n",
       "      <td>Barbour County</td>\n",
       "      <td>dc/p/pmfkrdq6rlbqh</td>\n",
       "      <td>dc/p/265x78ezydfxb</td>\n",
       "      <td>26201.0</td>\n",
       "      <td>39.7</td>\n",
       "      <td>33368.0</td>\n",
       "    </tr>\n",
       "    <tr>\n",
       "      <td>3</td>\n",
       "      <td>country/USA</td>\n",
       "      <td>geoId/01007</td>\n",
       "      <td>Bibb County</td>\n",
       "      <td>dc/p/tc7wl44bgje52</td>\n",
       "      <td>dc/p/zl1gm62r7yqq2</td>\n",
       "      <td>22580.0</td>\n",
       "      <td>39.8</td>\n",
       "      <td>43404.0</td>\n",
       "    </tr>\n",
       "    <tr>\n",
       "      <td>4</td>\n",
       "      <td>country/USA</td>\n",
       "      <td>geoId/01009</td>\n",
       "      <td>Blount County</td>\n",
       "      <td>dc/p/2pvrb99yv8f5</td>\n",
       "      <td>dc/p/wncfkrlxlx8s3</td>\n",
       "      <td>57667.0</td>\n",
       "      <td>40.9</td>\n",
       "      <td>47412.0</td>\n",
       "    </tr>\n",
       "    <tr>\n",
       "      <td>...</td>\n",
       "      <td>...</td>\n",
       "      <td>...</td>\n",
       "      <td>...</td>\n",
       "      <td>...</td>\n",
       "      <td>...</td>\n",
       "      <td>...</td>\n",
       "      <td>...</td>\n",
       "      <td>...</td>\n",
       "    </tr>\n",
       "    <tr>\n",
       "      <td>3215</td>\n",
       "      <td>country/USA</td>\n",
       "      <td>geoId/72145</td>\n",
       "      <td>Vega Baja Municipio</td>\n",
       "      <td>dc/p/ljyh7j6hfedl4</td>\n",
       "      <td>dc/p/ggnsm9r47n7gb</td>\n",
       "      <td>54754.0</td>\n",
       "      <td>40.1</td>\n",
       "      <td>18900.0</td>\n",
       "    </tr>\n",
       "    <tr>\n",
       "      <td>3216</td>\n",
       "      <td>country/USA</td>\n",
       "      <td>geoId/72147</td>\n",
       "      <td>Vieques Municipio</td>\n",
       "      <td>dc/p/hstp5t1kz36zh</td>\n",
       "      <td>dc/p/pe8g17cw00qnf</td>\n",
       "      <td>8931.0</td>\n",
       "      <td>41.4</td>\n",
       "      <td>16261.0</td>\n",
       "    </tr>\n",
       "    <tr>\n",
       "      <td>3217</td>\n",
       "      <td>country/USA</td>\n",
       "      <td>geoId/72149</td>\n",
       "      <td>Villalba Municipio</td>\n",
       "      <td>dc/p/g9cbm8gngpzm6</td>\n",
       "      <td>dc/p/c7lgr4rfeqjwf</td>\n",
       "      <td>23659.0</td>\n",
       "      <td>37.6</td>\n",
       "      <td>19893.0</td>\n",
       "    </tr>\n",
       "    <tr>\n",
       "      <td>3218</td>\n",
       "      <td>country/USA</td>\n",
       "      <td>geoId/72151</td>\n",
       "      <td>Yabucoa Municipio</td>\n",
       "      <td>dc/p/6zq6sle6wps</td>\n",
       "      <td>dc/p/7x6qgn4n7ejh8</td>\n",
       "      <td>35025.0</td>\n",
       "      <td>41.6</td>\n",
       "      <td>15586.0</td>\n",
       "    </tr>\n",
       "    <tr>\n",
       "      <td>3219</td>\n",
       "      <td>country/USA</td>\n",
       "      <td>geoId/72153</td>\n",
       "      <td>Yauco Municipio</td>\n",
       "      <td>dc/p/hht1kvx3tj90b</td>\n",
       "      <td>dc/p/8yedyx3mg8wqh</td>\n",
       "      <td>37585.0</td>\n",
       "      <td>42.1</td>\n",
       "      <td>14451.0</td>\n",
       "    </tr>\n",
       "  </tbody>\n",
       "</table>\n",
       "<p>3220 rows × 8 columns</p>\n",
       "</div>"
      ],
      "text/plain": [
       "          country       county          county_name     all_persons_pop  \\\n",
       "0     country/USA  geoId/01001       Autauga County  dc/p/cdkpt4hmxg352   \n",
       "1     country/USA  geoId/01003       Baldwin County   dc/p/2gt2kdl62cgs   \n",
       "2     country/USA  geoId/01005       Barbour County  dc/p/pmfkrdq6rlbqh   \n",
       "3     country/USA  geoId/01007          Bibb County  dc/p/tc7wl44bgje52   \n",
       "4     country/USA  geoId/01009        Blount County   dc/p/2pvrb99yv8f5   \n",
       "...           ...          ...                  ...                 ...   \n",
       "3215  country/USA  geoId/72145  Vega Baja Municipio  dc/p/ljyh7j6hfedl4   \n",
       "3216  country/USA  geoId/72147    Vieques Municipio  dc/p/hstp5t1kz36zh   \n",
       "3217  country/USA  geoId/72149   Villalba Municipio  dc/p/g9cbm8gngpzm6   \n",
       "3218  country/USA  geoId/72151    Yabucoa Municipio    dc/p/6zq6sle6wps   \n",
       "3219  country/USA  geoId/72153      Yauco Municipio  dc/p/hht1kvx3tj90b   \n",
       "\n",
       "              households     count  med_age   income  \n",
       "0     dc/p/6wxe6fbc7rdt9   55036.0     37.8  55317.0  \n",
       "1     dc/p/kkqkjr2xcsrs2  203360.0     42.6  52562.0  \n",
       "2     dc/p/265x78ezydfxb   26201.0     39.7  33368.0  \n",
       "3     dc/p/zl1gm62r7yqq2   22580.0     39.8  43404.0  \n",
       "4     dc/p/wncfkrlxlx8s3   57667.0     40.9  47412.0  \n",
       "...                  ...       ...      ...      ...  \n",
       "3215  dc/p/ggnsm9r47n7gb   54754.0     40.1  18900.0  \n",
       "3216  dc/p/pe8g17cw00qnf    8931.0     41.4  16261.0  \n",
       "3217  dc/p/c7lgr4rfeqjwf   23659.0     37.6  19893.0  \n",
       "3218  dc/p/7x6qgn4n7ejh8   35025.0     41.6  15586.0  \n",
       "3219  dc/p/8yedyx3mg8wqh   37585.0     42.1  14451.0  \n",
       "\n",
       "[3220 rows x 8 columns]"
      ]
     },
     "execution_count": 17,
     "metadata": {},
     "output_type": "execute_result"
    }
   ],
   "source": [
    "county"
   ]
  },
  {
   "cell_type": "code",
   "execution_count": null,
   "metadata": {},
   "outputs": [],
   "source": []
  },
  {
   "cell_type": "code",
   "execution_count": null,
   "metadata": {},
   "outputs": [],
   "source": []
  },
  {
   "cell_type": "code",
   "execution_count": 20,
   "metadata": {},
   "outputs": [],
   "source": [
    "county.to_csv('../files/census/dc.csv')"
   ]
  },
  {
   "cell_type": "code",
   "execution_count": null,
   "metadata": {},
   "outputs": [],
   "source": []
  },
  {
   "cell_type": "code",
   "execution_count": null,
   "metadata": {},
   "outputs": [],
   "source": []
  },
  {
   "cell_type": "code",
   "execution_count": null,
   "metadata": {},
   "outputs": [],
   "source": []
  },
  {
   "cell_type": "code",
   "execution_count": 125,
   "metadata": {},
   "outputs": [],
   "source": [
    "def get_fips(row):\n",
    "    return int(row.county[6:])"
   ]
  },
  {
   "cell_type": "code",
   "execution_count": 127,
   "metadata": {},
   "outputs": [],
   "source": [
    "county['fips'] = county.apply(get_fips, axis=1)"
   ]
  },
  {
   "cell_type": "code",
   "execution_count": 169,
   "metadata": {},
   "outputs": [],
   "source": [
    "df1 = df.set_index('fips').join(county.set_index('fips'))\n",
    "\n",
    "# Drop Nan\n",
    "df1 = df1.loc[df1.county == df1.county]  "
   ]
  },
  {
   "cell_type": "code",
   "execution_count": 176,
   "metadata": {},
   "outputs": [
    {
     "data": {
      "text/plain": [
       "<matplotlib.axes._subplots.AxesSubplot at 0x1a1c3836d0>"
      ]
     },
     "execution_count": 176,
     "metadata": {},
     "output_type": "execute_result"
    },
    {
     "data": {
      "image/png": "[encoded data removed]",
      "text/plain": [
       "<Figure size 640x480 with 1 Axes>"
      ]
     },
     "metadata": {},
     "output_type": "display_data"
    }
   ],
   "source": [
    "((df1.Population - df1['count']) / (df1['count'])).hist(bins=40)"
   ]
  },
  {
   "cell_type": "code",
   "execution_count": 195,
   "metadata": {},
   "outputs": [
    {
     "data": {
      "text/plain": [
       "False"
      ]
     },
     "execution_count": 195,
     "metadata": {},
     "output_type": "execute_result"
    }
   ],
   "source": [
    "df1['income'].isnull().any()"
   ]
  },
  {
   "cell_type": "code",
   "execution_count": 199,
   "metadata": {},
   "outputs": [
    {
     "data": {
      "text/html": [
       "<div>\n",
       "<style scoped>\n",
       "    .dataframe tbody tr th:only-of-type {\n",
       "        vertical-align: middle;\n",
       "    }\n",
       "\n",
       "    .dataframe tbody tr th {\n",
       "        vertical-align: top;\n",
       "    }\n",
       "\n",
       "    .dataframe thead th {\n",
       "        text-align: right;\n",
       "    }\n",
       "</style>\n",
       "<table border=\"1\" class=\"dataframe\">\n",
       "  <thead>\n",
       "    <tr style=\"text-align: right;\">\n",
       "      <th></th>\n",
       "      <th>country</th>\n",
       "      <th>county</th>\n",
       "      <th>county_name</th>\n",
       "      <th>all_persons_pop</th>\n",
       "      <th>count</th>\n",
       "      <th>med_age</th>\n",
       "      <th>households</th>\n",
       "      <th>income</th>\n",
       "      <th>fips</th>\n",
       "    </tr>\n",
       "  </thead>\n",
       "  <tbody>\n",
       "    <tr>\n",
       "      <td>1858</td>\n",
       "      <td>country/USA</td>\n",
       "      <td>geoId/36061</td>\n",
       "      <td>New York County</td>\n",
       "      <td>dc/p/1fytx744jd4eg</td>\n",
       "      <td>1653880.0</td>\n",
       "      <td>37.1</td>\n",
       "      <td>dc/p/twkrepezp5xw8</td>\n",
       "      <td>79781.0</td>\n",
       "      <td>36061</td>\n",
       "    </tr>\n",
       "  </tbody>\n",
       "</table>\n",
       "</div>"
      ],
      "text/plain": [
       "          country       county      county_name     all_persons_pop  \\\n",
       "1858  country/USA  geoId/36061  New York County  dc/p/1fytx744jd4eg   \n",
       "\n",
       "          count  med_age          households   income   fips  \n",
       "1858  1653880.0     37.1  dc/p/twkrepezp5xw8  79781.0  36061  "
      ]
     },
     "execution_count": 199,
     "metadata": {},
     "output_type": "execute_result"
    }
   ],
   "source": [
    "county.loc[county.county_name == 'New York County']"
   ]
  },
  {
   "cell_type": "code",
   "execution_count": 201,
   "metadata": {},
   "outputs": [
    {
     "data": {
      "text/plain": [
       "{}"
      ]
     },
     "execution_count": 201,
     "metadata": {},
     "output_type": "execute_result"
    }
   ],
   "source": [
    "dc.get_populations('geoId/36061', 'Person', \n",
    "                   constraining_properties={'employment': 'BLS_Employed'})"
   ]
  },
  {
   "cell_type": "code",
   "execution_count": null,
   "metadata": {},
   "outputs": [],
   "source": []
  },
  {
   "cell_type": "code",
   "execution_count": null,
   "metadata": {},
   "outputs": [],
   "source": []
  },
  {
   "cell_type": "code",
   "execution_count": null,
   "metadata": {},
   "outputs": [],
   "source": []
  },
  {
   "cell_type": "code",
   "execution_count": 207,
   "metadata": {},
   "outputs": [],
   "source": [
    "# dc.get_pop_obs('geoId/01001')"
   ]
  },
  {
   "cell_type": "code",
   "execution_count": 81,
   "metadata": {},
   "outputs": [],
   "source": [
    "pop_obs = Out[75]"
   ]
  },
  {
   "cell_type": "code",
   "execution_count": 85,
   "metadata": {},
   "outputs": [
    {
     "name": "stderr",
     "output_type": "stream",
     "text": [
      "IOPub data rate exceeded.\n",
      "The notebook server will temporarily stop sending output\n",
      "to the client in order to avoid crashing it.\n",
      "To change this limit, set the config variable\n",
      "`--NotebookApp.iopub_data_rate_limit`.\n",
      "\n",
      "Current values:\n",
      "NotebookApp.iopub_data_rate_limit=1000000.0 (bytes/sec)\n",
      "NotebookApp.rate_limit_window=3.0 (secs)\n",
      "\n"
     ]
    }
   ],
   "source": [
    "print(pop_obs)"
   ]
  },
  {
   "cell_type": "code",
   "execution_count": null,
   "metadata": {},
   "outputs": [],
   "source": []
  },
  {
   "cell_type": "code",
   "execution_count": null,
   "metadata": {},
   "outputs": [],
   "source": []
  },
  {
   "cell_type": "code",
   "execution_count": null,
   "metadata": {},
   "outputs": [],
   "source": []
  },
  {
   "cell_type": "code",
   "execution_count": null,
   "metadata": {},
   "outputs": [],
   "source": []
  },
  {
   "cell_type": "code",
   "execution_count": null,
   "metadata": {},
   "outputs": [],
   "source": []
  },
  {
   "cell_type": "code",
   "execution_count": null,
   "metadata": {},
   "outputs": [],
   "source": []
  },
  {
   "cell_type": "code",
   "execution_count": 38,
   "metadata": {},
   "outputs": [],
   "source": [
    "county['all_persons_pop'] = county['county'].map(dc.get_populations(county['county'], 'Person'))"
   ]
  },
  {
   "cell_type": "code",
   "execution_count": 67,
   "metadata": {},
   "outputs": [
    {
     "data": {
      "text/plain": [
       "<module 'datacommons' from '/Users/jessemurray/opt/anaconda3/lib/python3.7/site-packages/datacommons/__init__.py'>"
      ]
     },
     "execution_count": 67,
     "metadata": {},
     "output_type": "execute_result"
    }
   ],
   "source": []
  },
  {
   "cell_type": "code",
   "execution_count": 39,
   "metadata": {},
   "outputs": [],
   "source": [
    "# Add a 'count' and 'med_age' columns representing the total count and\n",
    "# median age of populations in all_persons_pop columns we created earlier.\n",
    "\n",
    "# Get observations for counties.\n",
    "county['count'] = county['all_persons_pop'].map(dc.get_observations(county['all_persons_pop'], \n",
    "    'count',\n",
    "    'measuredValue',\n",
    "    '2017', \n",
    "    measurement_method='CensusACS5yrSurvey'))\n",
    "county['med_age'] = county['all_persons_pop'].map(dc.get_observations(county['all_persons_pop'], \n",
    "    'age',\n",
    "    'medianValue',\n",
    "    '2017', \n",
    "    measurement_method='CensusACS5yrSurvey'))\n",
    "\n"
   ]
  },
  {
   "cell_type": "code",
   "execution_count": 40,
   "metadata": {},
   "outputs": [],
   "source": [
    "county_clean = county.dropna().reset_index(drop=True)\n"
   ]
  },
  {
   "cell_type": "code",
   "execution_count": 46,
   "metadata": {},
   "outputs": [],
   "source": [
    "def plot_data(title, pd_table):\n",
    "    \"\"\" Generate a scatter plot comparing median age and populationc count. \"\"\"\n",
    "    plt.figure(figsize=(12, 8))\n",
    "    plt.title(title)\n",
    "    plt.xlabel('Median Age in Years')\n",
    "    plt.ylabel('Population Count (log scale)')\n",
    "\n",
    "    # Scatter plot the information\n",
    "    ax = plt.gca()\n",
    "    ax.set_yscale('log')\n",
    "    ax.scatter(pd_table['med_age'], pd_table['count'], alpha=0.7)"
   ]
  },
  {
   "cell_type": "code",
   "execution_count": 48,
   "metadata": {},
   "outputs": [
    {
     "data": {
      "image/png": "[encoded data removed]",
      "text/plain": [
       "<Figure size 1200x800 with 1 Axes>"
      ]
     },
     "metadata": {},
     "output_type": "display_data"
    }
   ],
   "source": [
    "# Generate the plot for county data\n",
    "plot_data('Median Age vs. Population Count for Counties', county_clean)"
   ]
  },
  {
   "cell_type": "code",
   "execution_count": 50,
   "metadata": {},
   "outputs": [
    {
     "data": {
      "text/html": [
       "<div>\n",
       "<style scoped>\n",
       "    .dataframe tbody tr th:only-of-type {\n",
       "        vertical-align: middle;\n",
       "    }\n",
       "\n",
       "    .dataframe tbody tr th {\n",
       "        vertical-align: top;\n",
       "    }\n",
       "\n",
       "    .dataframe thead th {\n",
       "        text-align: right;\n",
       "    }\n",
       "</style>\n",
       "<table border=\"1\" class=\"dataframe\">\n",
       "  <thead>\n",
       "    <tr style=\"text-align: right;\">\n",
       "      <th></th>\n",
       "      <th>country</th>\n",
       "      <th>county</th>\n",
       "      <th>county_name</th>\n",
       "      <th>all_persons_pop</th>\n",
       "      <th>count</th>\n",
       "      <th>med_age</th>\n",
       "    </tr>\n",
       "  </thead>\n",
       "  <tbody>\n",
       "    <tr>\n",
       "      <td>0</td>\n",
       "      <td>country/USA</td>\n",
       "      <td>geoId/01001</td>\n",
       "      <td>Autauga County</td>\n",
       "      <td>dc/p/cdkpt4hmxg352</td>\n",
       "      <td>55036.0</td>\n",
       "      <td>37.8</td>\n",
       "    </tr>\n",
       "    <tr>\n",
       "      <td>1</td>\n",
       "      <td>country/USA</td>\n",
       "      <td>geoId/01003</td>\n",
       "      <td>Baldwin County</td>\n",
       "      <td>dc/p/2gt2kdl62cgs</td>\n",
       "      <td>203360.0</td>\n",
       "      <td>42.6</td>\n",
       "    </tr>\n",
       "    <tr>\n",
       "      <td>2</td>\n",
       "      <td>country/USA</td>\n",
       "      <td>geoId/01005</td>\n",
       "      <td>Barbour County</td>\n",
       "      <td>dc/p/pmfkrdq6rlbqh</td>\n",
       "      <td>26201.0</td>\n",
       "      <td>39.7</td>\n",
       "    </tr>\n",
       "    <tr>\n",
       "      <td>3</td>\n",
       "      <td>country/USA</td>\n",
       "      <td>geoId/01007</td>\n",
       "      <td>Bibb County</td>\n",
       "      <td>dc/p/tc7wl44bgje52</td>\n",
       "      <td>22580.0</td>\n",
       "      <td>39.8</td>\n",
       "    </tr>\n",
       "    <tr>\n",
       "      <td>4</td>\n",
       "      <td>country/USA</td>\n",
       "      <td>geoId/01009</td>\n",
       "      <td>Blount County</td>\n",
       "      <td>dc/p/2pvrb99yv8f5</td>\n",
       "      <td>57667.0</td>\n",
       "      <td>40.9</td>\n",
       "    </tr>\n",
       "    <tr>\n",
       "      <td>...</td>\n",
       "      <td>...</td>\n",
       "      <td>...</td>\n",
       "      <td>...</td>\n",
       "      <td>...</td>\n",
       "      <td>...</td>\n",
       "      <td>...</td>\n",
       "    </tr>\n",
       "    <tr>\n",
       "      <td>3215</td>\n",
       "      <td>country/USA</td>\n",
       "      <td>geoId/72145</td>\n",
       "      <td>Vega Baja Municipio</td>\n",
       "      <td>dc/p/ljyh7j6hfedl4</td>\n",
       "      <td>54754.0</td>\n",
       "      <td>40.1</td>\n",
       "    </tr>\n",
       "    <tr>\n",
       "      <td>3216</td>\n",
       "      <td>country/USA</td>\n",
       "      <td>geoId/72147</td>\n",
       "      <td>Vieques Municipio</td>\n",
       "      <td>dc/p/hstp5t1kz36zh</td>\n",
       "      <td>8931.0</td>\n",
       "      <td>41.4</td>\n",
       "    </tr>\n",
       "    <tr>\n",
       "      <td>3217</td>\n",
       "      <td>country/USA</td>\n",
       "      <td>geoId/72149</td>\n",
       "      <td>Villalba Municipio</td>\n",
       "      <td>dc/p/g9cbm8gngpzm6</td>\n",
       "      <td>23659.0</td>\n",
       "      <td>37.6</td>\n",
       "    </tr>\n",
       "    <tr>\n",
       "      <td>3218</td>\n",
       "      <td>country/USA</td>\n",
       "      <td>geoId/72151</td>\n",
       "      <td>Yabucoa Municipio</td>\n",
       "      <td>dc/p/6zq6sle6wps</td>\n",
       "      <td>35025.0</td>\n",
       "      <td>41.6</td>\n",
       "    </tr>\n",
       "    <tr>\n",
       "      <td>3219</td>\n",
       "      <td>country/USA</td>\n",
       "      <td>geoId/72153</td>\n",
       "      <td>Yauco Municipio</td>\n",
       "      <td>dc/p/hht1kvx3tj90b</td>\n",
       "      <td>37585.0</td>\n",
       "      <td>42.1</td>\n",
       "    </tr>\n",
       "  </tbody>\n",
       "</table>\n",
       "<p>3220 rows × 6 columns</p>\n",
       "</div>"
      ],
      "text/plain": [
       "          country       county          county_name     all_persons_pop  \\\n",
       "0     country/USA  geoId/01001       Autauga County  dc/p/cdkpt4hmxg352   \n",
       "1     country/USA  geoId/01003       Baldwin County   dc/p/2gt2kdl62cgs   \n",
       "2     country/USA  geoId/01005       Barbour County  dc/p/pmfkrdq6rlbqh   \n",
       "3     country/USA  geoId/01007          Bibb County  dc/p/tc7wl44bgje52   \n",
       "4     country/USA  geoId/01009        Blount County   dc/p/2pvrb99yv8f5   \n",
       "...           ...          ...                  ...                 ...   \n",
       "3215  country/USA  geoId/72145  Vega Baja Municipio  dc/p/ljyh7j6hfedl4   \n",
       "3216  country/USA  geoId/72147    Vieques Municipio  dc/p/hstp5t1kz36zh   \n",
       "3217  country/USA  geoId/72149   Villalba Municipio  dc/p/g9cbm8gngpzm6   \n",
       "3218  country/USA  geoId/72151    Yabucoa Municipio    dc/p/6zq6sle6wps   \n",
       "3219  country/USA  geoId/72153      Yauco Municipio  dc/p/hht1kvx3tj90b   \n",
       "\n",
       "         count  med_age  \n",
       "0      55036.0     37.8  \n",
       "1     203360.0     42.6  \n",
       "2      26201.0     39.7  \n",
       "3      22580.0     39.8  \n",
       "4      57667.0     40.9  \n",
       "...        ...      ...  \n",
       "3215   54754.0     40.1  \n",
       "3216    8931.0     41.4  \n",
       "3217   23659.0     37.6  \n",
       "3218   35025.0     41.6  \n",
       "3219   37585.0     42.1  \n",
       "\n",
       "[3220 rows x 6 columns]"
      ]
     },
     "execution_count": 50,
     "metadata": {},
     "output_type": "execute_result"
    }
   ],
   "source": [
    "county_clean"
   ]
  },
  {
   "cell_type": "code",
   "execution_count": 51,
   "metadata": {},
   "outputs": [
    {
     "data": {
      "text/html": [
       "<div>\n",
       "<style scoped>\n",
       "    .dataframe tbody tr th:only-of-type {\n",
       "        vertical-align: middle;\n",
       "    }\n",
       "\n",
       "    .dataframe tbody tr th {\n",
       "        vertical-align: top;\n",
       "    }\n",
       "\n",
       "    .dataframe thead th {\n",
       "        text-align: right;\n",
       "    }\n",
       "</style>\n",
       "<table border=\"1\" class=\"dataframe\">\n",
       "  <thead>\n",
       "    <tr style=\"text-align: right;\">\n",
       "      <th></th>\n",
       "      <th>fips</th>\n",
       "      <th>land</th>\n",
       "      <th>County</th>\n",
       "      <th>St</th>\n",
       "      <th>Population</th>\n",
       "      <th>Cases</th>\n",
       "      <th>Density</th>\n",
       "      <th>Cpc</th>\n",
       "    </tr>\n",
       "  </thead>\n",
       "  <tbody>\n",
       "    <tr>\n",
       "      <td>0</td>\n",
       "      <td>1001</td>\n",
       "      <td>594.44</td>\n",
       "      <td>Autauga County</td>\n",
       "      <td>AL</td>\n",
       "      <td>55869</td>\n",
       "      <td>104</td>\n",
       "      <td>93.985936</td>\n",
       "      <td>186.149743</td>\n",
       "    </tr>\n",
       "    <tr>\n",
       "      <td>1</td>\n",
       "      <td>1003</td>\n",
       "      <td>1589.78</td>\n",
       "      <td>Baldwin County</td>\n",
       "      <td>AL</td>\n",
       "      <td>223234</td>\n",
       "      <td>243</td>\n",
       "      <td>140.418171</td>\n",
       "      <td>108.854386</td>\n",
       "    </tr>\n",
       "    <tr>\n",
       "      <td>2</td>\n",
       "      <td>1005</td>\n",
       "      <td>884.88</td>\n",
       "      <td>Barbour County</td>\n",
       "      <td>AL</td>\n",
       "      <td>24686</td>\n",
       "      <td>74</td>\n",
       "      <td>27.897568</td>\n",
       "      <td>299.765049</td>\n",
       "    </tr>\n",
       "    <tr>\n",
       "      <td>3</td>\n",
       "      <td>1007</td>\n",
       "      <td>622.58</td>\n",
       "      <td>Bibb County</td>\n",
       "      <td>AL</td>\n",
       "      <td>22394</td>\n",
       "      <td>46</td>\n",
       "      <td>35.969675</td>\n",
       "      <td>205.412164</td>\n",
       "    </tr>\n",
       "    <tr>\n",
       "      <td>4</td>\n",
       "      <td>1009</td>\n",
       "      <td>644.78</td>\n",
       "      <td>Blount County</td>\n",
       "      <td>AL</td>\n",
       "      <td>57826</td>\n",
       "      <td>45</td>\n",
       "      <td>89.683303</td>\n",
       "      <td>77.819666</td>\n",
       "    </tr>\n",
       "    <tr>\n",
       "      <td>...</td>\n",
       "      <td>...</td>\n",
       "      <td>...</td>\n",
       "      <td>...</td>\n",
       "      <td>...</td>\n",
       "      <td>...</td>\n",
       "      <td>...</td>\n",
       "      <td>...</td>\n",
       "      <td>...</td>\n",
       "    </tr>\n",
       "    <tr>\n",
       "      <td>3137</td>\n",
       "      <td>56037</td>\n",
       "      <td>10426.65</td>\n",
       "      <td>Sweetwater County</td>\n",
       "      <td>WY</td>\n",
       "      <td>42343</td>\n",
       "      <td>14</td>\n",
       "      <td>4.061036</td>\n",
       "      <td>33.063316</td>\n",
       "    </tr>\n",
       "    <tr>\n",
       "      <td>3138</td>\n",
       "      <td>56039</td>\n",
       "      <td>3995.38</td>\n",
       "      <td>Teton County</td>\n",
       "      <td>WY</td>\n",
       "      <td>23464</td>\n",
       "      <td>68</td>\n",
       "      <td>5.872783</td>\n",
       "      <td>289.805660</td>\n",
       "    </tr>\n",
       "    <tr>\n",
       "      <td>3139</td>\n",
       "      <td>56041</td>\n",
       "      <td>2081.26</td>\n",
       "      <td>Uinta County</td>\n",
       "      <td>WY</td>\n",
       "      <td>20226</td>\n",
       "      <td>7</td>\n",
       "      <td>9.718152</td>\n",
       "      <td>34.608919</td>\n",
       "    </tr>\n",
       "    <tr>\n",
       "      <td>3140</td>\n",
       "      <td>56043</td>\n",
       "      <td>2238.55</td>\n",
       "      <td>Washakie County</td>\n",
       "      <td>WY</td>\n",
       "      <td>7805</td>\n",
       "      <td>5</td>\n",
       "      <td>3.486632</td>\n",
       "      <td>64.061499</td>\n",
       "    </tr>\n",
       "    <tr>\n",
       "      <td>3141</td>\n",
       "      <td>56045</td>\n",
       "      <td>2398.09</td>\n",
       "      <td>Weston County</td>\n",
       "      <td>WY</td>\n",
       "      <td>6927</td>\n",
       "      <td>0</td>\n",
       "      <td>2.888549</td>\n",
       "      <td>0.000000</td>\n",
       "    </tr>\n",
       "  </tbody>\n",
       "</table>\n",
       "<p>3142 rows × 8 columns</p>\n",
       "</div>"
      ],
      "text/plain": [
       "       fips      land             County  St  Population  Cases     Density  \\\n",
       "0      1001    594.44     Autauga County  AL       55869    104   93.985936   \n",
       "1      1003   1589.78     Baldwin County  AL      223234    243  140.418171   \n",
       "2      1005    884.88     Barbour County  AL       24686     74   27.897568   \n",
       "3      1007    622.58        Bibb County  AL       22394     46   35.969675   \n",
       "4      1009    644.78      Blount County  AL       57826     45   89.683303   \n",
       "...     ...       ...                ...  ..         ...    ...         ...   \n",
       "3137  56037  10426.65  Sweetwater County  WY       42343     14    4.061036   \n",
       "3138  56039   3995.38       Teton County  WY       23464     68    5.872783   \n",
       "3139  56041   2081.26       Uinta County  WY       20226      7    9.718152   \n",
       "3140  56043   2238.55    Washakie County  WY        7805      5    3.486632   \n",
       "3141  56045   2398.09      Weston County  WY        6927      0    2.888549   \n",
       "\n",
       "             Cpc  \n",
       "0     186.149743  \n",
       "1     108.854386  \n",
       "2     299.765049  \n",
       "3     205.412164  \n",
       "4      77.819666  \n",
       "...          ...  \n",
       "3137   33.063316  \n",
       "3138  289.805660  \n",
       "3139   34.608919  \n",
       "3140   64.061499  \n",
       "3141    0.000000  \n",
       "\n",
       "[3142 rows x 8 columns]"
      ]
     },
     "execution_count": 51,
     "metadata": {},
     "output_type": "execute_result"
    }
   ],
   "source": [
    "df"
   ]
  },
  {
   "cell_type": "code",
   "execution_count": null,
   "metadata": {},
   "outputs": [],
   "source": []
  }
 ],
 "metadata": {
  "kernelspec": {
   "display_name": "Python 3",
   "language": "python",
   "name": "python3"
  },
  "language_info": {
   "codemirror_mode": {
    "name": "ipython",
    "version": 3
   },
   "file_extension": ".py",
   "mimetype": "text/x-python",
   "name": "python",
   "nbconvert_exporter": "python",
   "pygments_lexer": "ipython3",
   "version": "3.7.4"
  }
 },
 "nbformat": 4,
 "nbformat_minor": 2
}
